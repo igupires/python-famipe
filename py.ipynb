{
  "cells": [
    {
      "cell_type": "markdown",
      "metadata": {
        "id": "view-in-github",
        "colab_type": "text"
      },
      "source": [
        "<a href=\"https://colab.research.google.com/github/igupires/python-famipe/blob/main/py.ipynb\" target=\"_parent\"><img src=\"https://colab.research.google.com/assets/colab-badge.svg\" alt=\"Open In Colab\"/></a>"
      ]
    },
    {
      "cell_type": "markdown",
      "id": "13a4db1b",
      "metadata": {
        "id": "13a4db1b"
      },
      "source": [
        "# Aulas\n",
        "## Colinha\n",
        "Primeiros passos com Python: o interpretador interativo.\n",
        "Conceito de variáveis e constantes.\n",
        "\n",
        "### Tipos de dados primitivo\n",
        "\n",
        "Tipos de dados primitivos: inteiro (int), ponto flutuante (float), booleano (bool) e string (str).\n",
        "\n",
        "Comandos de entrada e saída de dados: input() e print().\n",
        "\n",
        "Operadores aritméticos, relacionais e lógicos.\n"
      ]
    },
    {
      "cell_type": "code",
      "execution_count": null,
      "id": "6af74f28",
      "metadata": {
        "id": "6af74f28",
        "outputId": "35afce2c-7a7b-416f-ba35-96cdd1848844"
      },
      "outputs": [
        {
          "name": "stdout",
          "output_type": "stream",
          "text": [
            "0\n",
            "0.0\n",
            "string\n",
            "<class 'int'>\n",
            "<class 'float'>\n",
            "<class 'str'>\n"
          ]
        }
      ],
      "source": [
        "inteiro = 0\n",
        "decimal = 0.0\n",
        "frase = \"string\"\n",
        "\n",
        "print(inteiro)\n",
        "print(decimal)\n",
        "print(frase)\n",
        "\n",
        "print(type(inteiro))\n",
        "print(type(decimal))\n",
        "print(type(frase))"
      ]
    },
    {
      "cell_type": "markdown",
      "id": "b96fc273",
      "metadata": {
        "id": "b96fc273"
      },
      "source": [
        "Exemplo de impressão de tipos"
      ]
    },
    {
      "cell_type": "code",
      "execution_count": null,
      "id": "0289ecc9",
      "metadata": {
        "id": "0289ecc9",
        "outputId": "97156d69-3c84-46f2-fc02-ea1506caa5c9"
      },
      "outputs": [
        {
          "name": "stdout",
          "output_type": "stream",
          "text": [
            "<class 'str'>\n",
            "<class 'int'>\n",
            "<class 'float'>\n",
            "<class 'bool'>\n"
          ]
        }
      ],
      "source": [
        "print(type(\"Olá\")) # <class 'str'>\n",
        "print(type(10))     # <class 'int'> [cite: 113]\n",
        "print(type(25.5))   # <class 'float'> [cite: 114]\n",
        "print(type(True))   # <class 'bool'> [cite: 115]"
      ]
    },
    {
      "cell_type": "markdown",
      "id": "d3045078",
      "metadata": {
        "id": "d3045078"
      },
      "source": [
        "## Input()\n",
        "\n",
        "Exemplo de Concatenanção com o input, por padrão o input irá ler os dados como str."
      ]
    },
    {
      "cell_type": "code",
      "execution_count": null,
      "id": "3cc2b8c2",
      "metadata": {
        "id": "3cc2b8c2",
        "outputId": "9d171f28-b29a-4192-9c97-1fe21946db2c"
      },
      "outputs": [
        {
          "name": "stdout",
          "output_type": "stream",
          "text": [
            "O resultado da 'soma' é: 12\n"
          ]
        }
      ],
      "source": [
        "# Pede dois números ao usuário [cite: 101, 102]\n",
        "numero1 = input(\"Digite o primeiro número: \")\n",
        "numero2 = input(\"Digite outro número: \")\n",
        "\n",
        "soma = numero1 + numero2 # Concatena as strings em vez de somar [cite: 103, 105]\n",
        "print(\"O resultado da 'soma' é:\", soma) # [cite: 104]"
      ]
    },
    {
      "cell_type": "markdown",
      "id": "5fd33dff",
      "metadata": {
        "id": "5fd33dff"
      },
      "source": [
        "Dessa forma ao imprimir o conteúdo das variáveis teríamos o sequinte resultado:"
      ]
    },
    {
      "cell_type": "code",
      "execution_count": null,
      "id": "2ff17b99",
      "metadata": {
        "id": "2ff17b99",
        "outputId": "cdeb713a-02a5-4c8b-a05a-515fa49cc3c7"
      },
      "outputs": [
        {
          "name": "stdout",
          "output_type": "stream",
          "text": [
            "1\n",
            "2\n",
            "<class 'str'>\n",
            "<class 'str'>\n"
          ]
        }
      ],
      "source": [
        "print(numero1)\n",
        "print(numero2)\n",
        "\n",
        "print(type(numero1))\n",
        "print(type(numero2))"
      ]
    },
    {
      "cell_type": "markdown",
      "id": "5dc21af0",
      "metadata": {
        "id": "5dc21af0"
      },
      "source": [
        "## Tratamento de String\n",
        "\n",
        "O código abaixo demonstra como manipular strings em Python utilizando métodos como `lower()`, que converte todos os caracteres para minúsculo. Observe que espaços em branco no início e fim da string permanecem inalterados."
      ]
    },
    {
      "cell_type": "code",
      "execution_count": null,
      "id": "ded9409d",
      "metadata": {
        "id": "ded9409d",
        "outputId": "a5b68864-a77e-4a40-92b6-204bda6b9c51"
      },
      "outputs": [
        {
          "name": "stdout",
          "output_type": "stream",
          "text": [
            "   hello, world!   \n"
          ]
        }
      ],
      "source": [
        "    s = \"   Hello, World!   \"\n",
        "    result = s.lower()\n",
        "    print(result)\n",
        "    # Output: '   hello, world!   '"
      ]
    },
    {
      "cell_type": "markdown",
      "id": "675faf97",
      "metadata": {
        "id": "675faf97"
      },
      "source": [
        "O código abaixo utiliza o método `strip()` para remover espaços em branco do início e do fim da string `s`. Dessa forma, o resultado exibido será a frase sem os espaços extras, mantendo apenas o conteúdo central da string."
      ]
    },
    {
      "cell_type": "code",
      "execution_count": null,
      "id": "360815a1",
      "metadata": {
        "id": "360815a1",
        "outputId": "152d7591-13d0-413a-e024-907f78d41a5e"
      },
      "outputs": [
        {
          "name": "stdout",
          "output_type": "stream",
          "text": [
            "Hello, World!\n"
          ]
        }
      ],
      "source": [
        "    s = \"   Hello, World!   \"\n",
        "    result = s.strip()\n",
        "    print(result)\n",
        "    # Output: 'Hello, World!'"
      ]
    },
    {
      "cell_type": "markdown",
      "id": "c26a68de",
      "metadata": {
        "id": "c26a68de"
      },
      "source": [
        "O código abaixo demonstra como aplicar dois métodos de tratamento de strings em sequência: `strip()` para remover espaços em branco do início e fim da string, e `lower()` para converter todos os caracteres para minúsculo.\n",
        "\n",
        "Em relação aos primeiros exemplos de código, que apresentam variáveis do tipo inteiro, ponto flutuante e string, este exemplo reforça que strings em Python possuem métodos específicos para manipulação de seu conteúdo, permitindo transformações como remoção de espaços e alteração de caixa dos caracteres. Isso evidencia a versatilidade do tipo `str` em comparação aos tipos numéricos, que não possuem tais métodos."
      ]
    },
    {
      "cell_type": "code",
      "execution_count": null,
      "id": "7a7de51c",
      "metadata": {
        "id": "7a7de51c",
        "outputId": "8c0b8e7d-3fb2-4177-9d82-a65cc44b044d"
      },
      "outputs": [
        {
          "name": "stdout",
          "output_type": "stream",
          "text": [
            "hello, world!\n"
          ]
        }
      ],
      "source": [
        "    s = \"   Hello, World!   \"\n",
        "    result = s.strip().lower()\n",
        "    print(result)\n",
        "    # Output: '   hello, world!   '"
      ]
    },
    {
      "cell_type": "markdown",
      "id": "e470ef78",
      "metadata": {
        "id": "e470ef78"
      },
      "source": [
        "## Seleções"
      ]
    },
    {
      "cell_type": "code",
      "execution_count": null,
      "id": "599342a5",
      "metadata": {
        "id": "599342a5",
        "outputId": "9b01f394-b1a2-453e-b72a-9061f2e98df3"
      },
      "outputs": [
        {
          "name": "stdout",
          "output_type": "stream",
          "text": [
            "True\n",
            "<class 'bool'>\n",
            "11\n",
            "<class 'int'>\n",
            "Fico em casa\n"
          ]
        }
      ],
      "source": [
        "possoSair = True\n",
        "saldoBancario = 11\n",
        "\n",
        "print(possoSair)\n",
        "print(type(possoSair))\n",
        "\n",
        "print(saldoBancario)\n",
        "print(type(saldoBancario))\n",
        "\n",
        "if possoSair and saldoBancario > 50:\n",
        "    print(\"Vou a praia\")\n",
        "else:\n",
        "    print(\"Fico em casa\")"
      ]
    },
    {
      "cell_type": "code",
      "execution_count": null,
      "id": "b141925d",
      "metadata": {
        "id": "b141925d",
        "outputId": "fd152bb1-5cea-49dc-eaf2-5c7bb02088e3"
      },
      "outputs": [
        {
          "name": "stdout",
          "output_type": "stream",
          "text": [
            "True\n",
            "<class 'bool'>\n",
            "11\n",
            "<class 'int'>\n",
            "Fico em casa\n",
            "Como miojo\n"
          ]
        }
      ],
      "source": [
        "possoSair = True\n",
        "saldoBancario = 11\n",
        "\n",
        "print(possoSair)\n",
        "print(type(possoSair))\n",
        "\n",
        "print(saldoBancario)\n",
        "print(type(saldoBancario))\n",
        "\n",
        "if possoSair and saldoBancario > 50:\n",
        "    print(\"Vou a praia\")\n",
        "elif possoSair and saldoBancario > 30:\n",
        "    print(\"Vou ao parque\")\n",
        "else:\n",
        "    print(\"Fico em casa\")\n",
        "\n",
        "if possoSair and saldoBancario > 20:\n",
        "    print(\"Vou comer fora\")\n",
        "elif possoSair and saldoBancario > 15:\n",
        "    print(\"Vou pedir lanche\")\n",
        "else:\n",
        "    print(\"Como miojo\")"
      ]
    },
    {
      "cell_type": "code",
      "execution_count": null,
      "id": "390686cc",
      "metadata": {
        "id": "390686cc",
        "outputId": "24b643c7-e96f-44c4-9cbc-49a6c7c885a4"
      },
      "outputs": [
        {
          "name": "stdout",
          "output_type": "stream",
          "text": [
            "True\n",
            "<class 'bool'>\n",
            "11\n",
            "<class 'int'>\n",
            "Fico em casa e como miojo\n"
          ]
        }
      ],
      "source": [
        "possoSair = True\n",
        "saldoBancario = 11\n",
        "\n",
        "print(possoSair)\n",
        "print(type(possoSair))\n",
        "\n",
        "print(saldoBancario)\n",
        "print(type(saldoBancario))\n",
        "\n",
        "if possoSair and saldoBancario > 50:\n",
        "    print(\"Vou a praia\")\n",
        "elif possoSair and saldoBancario > 30:\n",
        "    print(\"Vou ao parque\")\n",
        "elif possoSair and saldoBancario > 20:\n",
        "    print(\"Vou comer fora\")\n",
        "elif possoSair and saldoBancario > 15:\n",
        "    print(\"Vou pedir lanche\")\n",
        "else:\n",
        "    print(\"Fico em casa e como miojo\")"
      ]
    },
    {
      "cell_type": "code",
      "execution_count": null,
      "id": "1bbc475e",
      "metadata": {
        "id": "1bbc475e",
        "outputId": "e24636d8-691b-46b9-d454-2d30cdb4246d"
      },
      "outputs": [
        {
          "name": "stdout",
          "output_type": "stream",
          "text": [
            "True\n",
            "<class 'bool'>\n",
            "11\n",
            "<class 'int'>\n",
            "Tenho mais de 40 reais\n"
          ]
        }
      ],
      "source": [
        "possoSair = True\n",
        "saldoBancario = 11\n",
        "\n",
        "print(possoSair)\n",
        "print(type(possoSair))\n",
        "\n",
        "print(saldoBancario)\n",
        "print(type(saldoBancario))\n",
        "\n",
        "match saldoBancario:\n",
        "    case 0:\n",
        "        print(\"Não tenho dinheiro\")\n",
        "    case 20:\n",
        "        print(\"Tenho 20 reais\")\n",
        "    case 40:\n",
        "        print(\"Tenho 40 reais\")\n",
        "    case _:\n",
        "        print(\"Tenho mais de 40 reais\")"
      ]
    },
    {
      "cell_type": "markdown",
      "id": "4c90cafa",
      "metadata": {
        "id": "4c90cafa"
      },
      "source": [
        "##Repetições"
      ]
    },
    {
      "cell_type": "code",
      "execution_count": null,
      "id": "f8417afd",
      "metadata": {
        "id": "f8417afd",
        "outputId": "deffe852-3fc5-4bee-b845-46d63d995059"
      },
      "outputs": [
        {
          "name": "stdout",
          "output_type": "stream",
          "text": [
            "1\n",
            "2\n",
            "3\n",
            "4\n",
            "5\n"
          ]
        }
      ],
      "source": [
        "for variavel_temporaria in range(1, 6):\n",
        "    # Bloco de código a ser repetido\n",
        "    # Faça algo com a variavel_temporaria\n",
        "    print(variavel_temporaria)"
      ]
    },
    {
      "cell_type": "code",
      "execution_count": null,
      "id": "56e508d5",
      "metadata": {
        "id": "56e508d5",
        "outputId": "0a0249cc-4568-4d4b-e88f-cc7536488038"
      },
      "outputs": [
        {
          "name": "stdout",
          "output_type": "stream",
          "text": [
            "1\n",
            "2\n",
            "3\n",
            "4\n",
            "5\n"
          ]
        }
      ],
      "source": [
        "sequencia = [1, 2, 3, 4, 5]\n",
        "\n",
        "for variavel_temporaria in sequencia:\n",
        "    # Bloco de código a ser repetido\n",
        "    # Faça algo com a variavel_temporaria\n",
        "    print(variavel_temporaria)"
      ]
    },
    {
      "cell_type": "code",
      "execution_count": null,
      "id": "bcf1e274",
      "metadata": {
        "id": "bcf1e274",
        "outputId": "2b1709d1-c71e-495c-986d-9de21e1e86de"
      },
      "outputs": [
        {
          "name": "stdout",
          "output_type": "stream",
          "text": [
            "1\n",
            "2\n",
            "3\n",
            "4\n",
            "5\n"
          ]
        }
      ],
      "source": [
        "sequencia = [1, 2, 3, 4, 5]\n",
        "\n",
        "for variavel_temporaria in sequencia:\n",
        "    # Bloco de código a ser repetido\n",
        "    # Faça algo com a variavel_temporaria\n",
        "    print(variavel_temporaria)"
      ]
    },
    {
      "cell_type": "code",
      "execution_count": null,
      "id": "ea223d45",
      "metadata": {
        "id": "ea223d45",
        "outputId": "4ff68249-ca25-4b73-fd23-bb38b2b5fe81"
      },
      "outputs": [
        {
          "name": "stdout",
          "output_type": "stream",
          "text": [
            "Olá, Ana! Você está convidado(a) para a festa.\n",
            "Olá, Bruno! Você está convidado(a) para a festa.\n",
            "Olá, Carla! Você está convidado(a) para a festa.\n"
          ]
        }
      ],
      "source": [
        "# Lista de convidados\n",
        "convidados = ['Ana', 'Bruno', 'Carla']\n",
        "\n",
        "# Para cada nome na lista de convidados, imprima um convite\n",
        "for nome in convidados:\n",
        "    print(f\"Olá, {nome}! Você está convidado(a) para a festa.\")"
      ]
    },
    {
      "cell_type": "code",
      "execution_count": null,
      "id": "50fdabc9",
      "metadata": {
        "id": "50fdabc9",
        "outputId": "57a7ba60-98d7-4608-cea0-2834c6e3c239"
      },
      "outputs": [
        {
          "name": "stdout",
          "output_type": "stream",
          "text": [
            "Olá, Ana! Você está convidado(a) para a festa.\n",
            "Olá, Bruno! Você está convidado(a) para a festa.\n",
            "Olá, Carla! Você está convidado(a) para a festa.\n"
          ]
        }
      ],
      "source": [
        "# Lista de convidados\n",
        "convidados = ['Ana', 'Bruno', 'Carla']\n",
        "\n",
        "# Para cada nome na lista de convidados, imprima um convite\n",
        "for nome in convidados:\n",
        "    print(f\"Olá, {nome}! Você está convidado(a) para a festa.\")"
      ]
    },
    {
      "cell_type": "markdown",
      "id": "2c171002",
      "metadata": {
        "id": "2c171002"
      },
      "source": [
        "O código abaixo utiliza um loop `while` que continua executando enquanto a variável `condicao` for verdadeira. Dentro do loop, o valor de `condicao` é impresso e, em seguida, ela é alterada para `False`, fazendo com que o loop seja encerrado após a primeira execução."
      ]
    },
    {
      "cell_type": "code",
      "execution_count": null,
      "id": "56174d49",
      "metadata": {
        "id": "56174d49",
        "outputId": "b97230a1-a4be-4959-9bbc-bbfa8892d025"
      },
      "outputs": [
        {
          "name": "stdout",
          "output_type": "stream",
          "text": [
            "True\n"
          ]
        }
      ],
      "source": [
        "condicao = True\n",
        "while condicao:\n",
        "    # Bloco de código a ser repetido\n",
        "    # IMPORTANTE: Algo aqui dentro deve mudar a condição!\n",
        "    print(condicao)\n",
        "    condicao = False"
      ]
    },
    {
      "cell_type": "markdown",
      "id": "aad43166",
      "metadata": {
        "id": "aad43166"
      },
      "source": [
        "O código abaixo utiliza um loop `while` para contar regressivamente a partir do valor da variável `numero` (inicialmente 5) até 1. A cada iteração, o valor de `numero` é impresso e decrementado em 1. Quando `numero` chega a 0, o loop termina e a mensagem \"Decolar!\" é exibida, simulando uma contagem regressiva para lançamento."
      ]
    },
    {
      "cell_type": "code",
      "execution_count": null,
      "id": "d9d93c85",
      "metadata": {
        "id": "d9d93c85",
        "outputId": "ec2d8e4a-ec4c-4706-a364-053f4c72da04"
      },
      "outputs": [
        {
          "name": "stdout",
          "output_type": "stream",
          "text": [
            "5\n",
            "4\n",
            "3\n",
            "2\n",
            "1\n",
            "Decolar!\n"
          ]
        }
      ],
      "source": [
        "numero = 5\n",
        "\n",
        "# Enquanto o número for maior que 0...\n",
        "while numero > 0:\n",
        "    print(numero)\n",
        "    numero = numero - 1 # ...diminua o número em 1\n",
        "\n",
        "print(\"Decolar!\")"
      ]
    },
    {
      "cell_type": "code",
      "execution_count": null,
      "id": "2e64ca40",
      "metadata": {
        "id": "2e64ca40"
      },
      "outputs": [],
      "source": [
        "# while para validar entrada\n",
        "resposta = \"\"\n",
        "while resposta != \"sim\":\n",
        "    resposta = input(\"Você aceita os termos? (sim/não) \")\n",
        "    print(\"Você respondeu:\", resposta)"
      ]
    },
    {
      "cell_type": "markdown",
      "source": [
        "# Listas\n",
        "\n",
        "##Motivação\n",
        "\n",
        "Como podemos armazenar os nomes de todos os alunos desta turma em nosso programa? Criar 30 variáveis (aluno1, aluno2...) não é prático."
      ],
      "metadata": {
        "id": "EbZBzjviRFih"
      },
      "id": "EbZBzjviRFih"
    },
    {
      "cell_type": "code",
      "source": [
        "aluno1 = \"Pedro\"\n",
        "aluno2 = \"Renato\"\n",
        "\n",
        "print(aluno1)\n",
        "print(aluno2)"
      ],
      "metadata": {
        "id": "rrt1MELgRLkG",
        "outputId": "203b2fa3-93b8-4e6b-9b6e-1d98910ad0de",
        "colab": {
          "base_uri": "https://localhost:8080/"
        }
      },
      "id": "rrt1MELgRLkG",
      "execution_count": null,
      "outputs": [
        {
          "output_type": "stream",
          "name": "stdout",
          "text": [
            "Pedro\n",
            "Renato\n"
          ]
        }
      ]
    },
    {
      "cell_type": "markdown",
      "source": [
        "A lista é o trem, e cada vagão é um elemento que carrega um valor. Os vagões são numerados em ordem, começando do zero."
      ],
      "metadata": {
        "id": "rZ__AOaNRcmU"
      },
      "id": "rZ__AOaNRcmU"
    },
    {
      "cell_type": "code",
      "source": [
        "alunos = [\"Pedro\",\"Renato\",\"José\"]\n",
        "\n",
        "for nome in alunos:\n",
        "  print(nome)"
      ],
      "metadata": {
        "id": "fbVBwTnWRPOP",
        "outputId": "243d90e1-f687-4d57-87f8-fc69c3167a7d",
        "colab": {
          "base_uri": "https://localhost:8080/"
        }
      },
      "id": "fbVBwTnWRPOP",
      "execution_count": null,
      "outputs": [
        {
          "output_type": "stream",
          "name": "stdout",
          "text": [
            "Pedro\n",
            "Renato\n",
            "José\n"
          ]
        }
      ]
    },
    {
      "cell_type": "markdown",
      "source": [
        "# Demonstração Interativa\n",
        "\n",
        "Execute os blocos abaixo um a um.\n",
        "\n",
        "## Adicionando Itens\n",
        "\n",
        ".**append**(*item*): Adiciona um item ao final da lista. (O mais comum)"
      ],
      "metadata": {
        "id": "kxDN31tqWSQs"
      },
      "id": "kxDN31tqWSQs"
    },
    {
      "cell_type": "code",
      "source": [
        "tarefas = []\n",
        "tarefas.append(\"Lavar a louça\")\n",
        "tarefas.append(\"Estudar Python\")\n",
        "print(tarefas) # Saída: ['Lavar a louça', 'Estudar Python']"
      ],
      "metadata": {
        "id": "kyJt9x6kWW6G",
        "outputId": "bcdab8b0-83ef-428f-9274-214ee61489f5",
        "colab": {
          "base_uri": "https://localhost:8080/"
        }
      },
      "id": "kyJt9x6kWW6G",
      "execution_count": null,
      "outputs": [
        {
          "output_type": "stream",
          "name": "stdout",
          "text": [
            "['Lavar a louça', 'Estudar Python']\n"
          ]
        }
      ]
    },
    {
      "cell_type": "markdown",
      "source": [
        ".**insert**(*indice*, *item*): Adiciona um item em uma posição específica."
      ],
      "metadata": {
        "id": "35Idnkr3WjkD"
      },
      "id": "35Idnkr3WjkD"
    },
    {
      "cell_type": "code",
      "source": [
        "tarefas.insert(0, \"Arrumar a cama\")\n",
        "print(tarefas) # Saída: ['Arrumar a cama', 'Lavar a louça', 'Estudar Python']"
      ],
      "metadata": {
        "id": "z_oGXKLXWnQ4",
        "outputId": "fbdc8347-f988-4131-a4cc-aa99bdf80aa3",
        "colab": {
          "base_uri": "https://localhost:8080/"
        }
      },
      "id": "z_oGXKLXWnQ4",
      "execution_count": null,
      "outputs": [
        {
          "output_type": "stream",
          "name": "stdout",
          "text": [
            "['Arrumar a cama', 'Lavar a louça', 'Estudar Python']\n"
          ]
        }
      ]
    },
    {
      "cell_type": "markdown",
      "source": [
        "## Removendo Itens:\n",
        "\n",
        ".**pop**(*indice*): Remove o item de um índice (se o índice for omitido, remove o último)."
      ],
      "metadata": {
        "id": "q6PVPCTsWqtm"
      },
      "id": "q6PVPCTsWqtm"
    },
    {
      "cell_type": "code",
      "source": [
        "tarefa_removida = tarefas.pop(1)\n",
        "print(f\"Tarefa removida: {tarefa_removida}\")\n",
        "print(tarefas) # Saída: ['Arrumar a cama', 'Estudar Python']"
      ],
      "metadata": {
        "id": "WyT3Vw9KW1DO",
        "outputId": "1e5f83f5-dcba-4f0c-e400-96265fce4d99",
        "colab": {
          "base_uri": "https://localhost:8080/"
        }
      },
      "id": "WyT3Vw9KW1DO",
      "execution_count": null,
      "outputs": [
        {
          "output_type": "stream",
          "name": "stdout",
          "text": [
            "Tarefa removida: Lavar a louça\n",
            "['Arrumar a cama', 'Estudar Python']\n"
          ]
        }
      ]
    },
    {
      "cell_type": "markdown",
      "source": [
        ".**remove**(*valor*): Remove a primeira ocorrência de um valor específico."
      ],
      "metadata": {
        "id": "uTDaoQ3qW4nf"
      },
      "id": "uTDaoQ3qW4nf"
    },
    {
      "cell_type": "code",
      "source": [
        "tarefas.remove(\"Estudar Python\")\n",
        "print(tarefas) # Saída: ['Arrumar a cama']"
      ],
      "metadata": {
        "id": "OX0iFnrWW56i",
        "outputId": "4bdb95d9-db7c-4c11-e112-60f8f6209ae9",
        "colab": {
          "base_uri": "https://localhost:8080/"
        }
      },
      "id": "OX0iFnrWW56i",
      "execution_count": null,
      "outputs": [
        {
          "output_type": "stream",
          "name": "stdout",
          "text": [
            "['Arrumar a cama']\n"
          ]
        }
      ]
    },
    {
      "cell_type": "markdown",
      "source": [
        "## Ordenando e Utilitários:\n",
        "\n",
        ".**sort**(): Modifica a lista original, ordenando-a."
      ],
      "metadata": {
        "id": "fZjw1sVlW8sA"
      },
      "id": "fZjw1sVlW8sA"
    },
    {
      "cell_type": "code",
      "source": [
        "notas = [9.5, 7.0, 8.2, 6.5]\n",
        "notas.sort() # Ordena em ordem crescente\n",
        "print(notas) # Saída: [6.5, 7.0, 8.2, 9.5]\n",
        "notas.sort(reverse=True) # Ordena em ordem decrescente\n",
        "print(notas) # Saída: [9.5, 8.2, 7.0, 6.5]"
      ],
      "metadata": {
        "id": "MmiCagSmXArn",
        "outputId": "bf65936a-f5f9-401d-9940-45f7e4d35f9f",
        "colab": {
          "base_uri": "https://localhost:8080/"
        }
      },
      "id": "MmiCagSmXArn",
      "execution_count": null,
      "outputs": [
        {
          "output_type": "stream",
          "name": "stdout",
          "text": [
            "[6.5, 7.0, 8.2, 9.5]\n",
            "[9.5, 8.2, 7.0, 6.5]\n"
          ]
        }
      ]
    },
    {
      "cell_type": "markdown",
      "source": [
        ".**len**(*lista*): Função global para obter o tamanho da lista."
      ],
      "metadata": {
        "id": "amx8sw52XEFY"
      },
      "id": "amx8sw52XEFY"
    },
    {
      "cell_type": "code",
      "source": [
        "print(f\"A lista de notas tem {len(notas)} elementos.\")"
      ],
      "metadata": {
        "id": "MEkuVQu8XDyb",
        "outputId": "cb84caa3-207f-45f6-a26b-2a090bc0ba77",
        "colab": {
          "base_uri": "https://localhost:8080/"
        }
      },
      "id": "MEkuVQu8XDyb",
      "execution_count": null,
      "outputs": [
        {
          "output_type": "stream",
          "name": "stdout",
          "text": [
            "A lista de notas tem 4 elementos.\n"
          ]
        }
      ]
    },
    {
      "cell_type": "markdown",
      "id": "7bbeec84",
      "metadata": {
        "id": "7bbeec84"
      },
      "source": [
        "# Lista de Exercícios\n",
        "\n",
        "## Exercício 01\n",
        "\n",
        "- Criar código python equivalente para o fluxograma.\n",
        "- Variáveis de decisão devem ser inseridas pelo usuário\n"
      ]
    },
    {
      "cell_type": "code",
      "execution_count": null,
      "id": "708aa5f2",
      "metadata": {
        "id": "708aa5f2",
        "outputId": "1dc62605-98b9-4c5e-b714-2606b0b12bf0"
      },
      "outputs": [
        {
          "name": "stdout",
          "output_type": "stream",
          "text": [
            "Tenho roupa lavada :  True\n",
            "Tem culto hoje :  False\n",
            "<class 'bool'>\n",
            "<class 'bool'>\n",
            "Fico em casa\n"
          ]
        }
      ],
      "source": [
        "tenhoRoupa = input(\"Tenho roupa lavada? (sim/não): \").strip().lower() == \"sim\"\n",
        "temCulto = input(\"Tem culto hoje? (sim/não): \").strip().lower() == \"sim\"\n",
        "\n",
        "print(\"Tenho roupa lavada : \", tenhoRoupa)\n",
        "print(\"Tem culto hoje : \", temCulto)\n",
        "\n",
        "print(type(tenhoRoupa))\n",
        "print(type(temCulto))\n",
        "\n",
        "if not tenhoRoupa:\n",
        "    print(\"Lavo roupa\")\n",
        "    print(\"Fico em casa\")\n",
        "elif tenhoRoupa and temCulto:\n",
        "    print(\"Vou ao culto\")\n",
        "else:\n",
        "    print(\"Fico em casa\")"
      ]
    },
    {
      "cell_type": "markdown",
      "id": "1dbca446",
      "metadata": {
        "id": "1dbca446"
      },
      "source": [
        "## Exercício 02\n",
        "\n",
        "- Criar código python que peça dois números, exiba o resultado da operação selecionada utilizando match-case:\n",
        "    - **1**   |   + (Adição)\n",
        "    - **2**   |   - (Subtração)\n",
        "    - **3**   |   * (Multiplicação)\n",
        "    - **4**   |   / (Divisão real)\n",
        "    - **5**   |   // (Divisão inteira)\n",
        "    - **6**   |   % (Módulo - resto da divisão)\n",
        "    - **7**   |   ** (Exponenciação)"
      ]
    },
    {
      "cell_type": "code",
      "execution_count": null,
      "id": "e5bc0680",
      "metadata": {
        "id": "e5bc0680",
        "outputId": "24b82c09-2462-41b9-ced1-514f835940f5"
      },
      "outputs": [
        {
          "name": "stdout",
          "output_type": "stream",
          "text": [
            "O resultado da multiplicação é: 2.0\n"
          ]
        }
      ],
      "source": [
        "numero1 = float(input(\"Digite o primeiro número: \"))\n",
        "numero2 = float(input(\"Digite o segundo número: \"))\n",
        "operacao = input(\"Escolha a operação (1-7): \")\n",
        "\n",
        "match operacao:\n",
        "    case \"1\":\n",
        "        resultado = numero1 + numero2\n",
        "        print(f\"O resultado da adição é: {resultado}\")\n",
        "    case \"2\":\n",
        "        resultado = numero1 - numero2\n",
        "        print(f\"O resultado da subtração é: {resultado}\")\n",
        "    case \"3\":\n",
        "        resultado = numero1 * numero2\n",
        "        print(f\"O resultado da multiplicação é: {resultado}\")\n",
        "    case \"4\":\n",
        "        if numero2 != 0:\n",
        "            resultado = numero1 / numero2\n",
        "            print(f\"O resultado da divisão real é: {resultado}\")\n",
        "        else:\n",
        "            print(\"Erro: Divisão por zero não é permitida.\")\n",
        "    case \"5\":\n",
        "        if numero2 != 0:\n",
        "            resultado = numero1 // numero2\n",
        "            print(f\"O resultado da divisão inteira é: {resultado}\")\n",
        "        else:\n",
        "            print(\"Erro: Divisão por zero não é permitida.\")\n",
        "    case \"6\":\n",
        "        if numero2 != 0:\n",
        "            resultado = numero1 % numero2\n",
        "            print(f\"O resultado do módulo é: {resultado}\")\n",
        "        else:\n",
        "            print(\"Erro: Divisão por zero não é permitida.\")\n",
        "    case \"7\":\n",
        "        resultado = numero1 ** numero2\n",
        "        print(f\"O resultado da exponenciação é: {resultado}\")\n",
        "    # --- IGNORE ---\n",
        "    case _:\n",
        "        print(\"Operação inválida. Por favor, escolha um número entre 1 e 7.\")\n",
        "    # --- IGNORE ---"
      ]
    },
    {
      "cell_type": "markdown",
      "id": "63ca709a",
      "metadata": {
        "id": "63ca709a"
      },
      "source": [
        "## Exercício 03\n",
        "\n",
        "- Desenvolver um programa completo que:\n",
        "    - Peça o nome e o ano de nascimento do usuário.\n",
        "    - Calcule a idade aproximada do usuário (Ano Atual - Ano de Nascimento).\n",
        "    - Peça a altura do usuário em metros (ex: 1.75).\n",
        "    - Exiba uma mensagem final formatada como: \"Olá, [Nome]! Você tem aproximadamente [Idade] anos e sua altura é [altura]”\n",
        "\n"
      ]
    }
  ],
  "metadata": {
    "kernelspec": {
      "display_name": "Python 3",
      "language": "python",
      "name": "python3"
    },
    "language_info": {
      "codemirror_mode": {
        "name": "ipython",
        "version": 3
      },
      "file_extension": ".py",
      "mimetype": "text/x-python",
      "name": "python",
      "nbconvert_exporter": "python",
      "pygments_lexer": "ipython3",
      "version": "3.12.4"
    },
    "colab": {
      "provenance": [],
      "include_colab_link": true
    }
  },
  "nbformat": 4,
  "nbformat_minor": 5
}