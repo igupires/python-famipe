{
 "cells": [
  {
   "cell_type": "markdown",
   "id": "13a4db1b",
   "metadata": {},
   "source": [
    "# Aula 07\n",
    "## Revisão\n",
    "Primeiros passos com Python: o interpretador interativo.\n",
    "Conceito de variáveis e constantes.\n",
    "Tipos de dados primitivos: inteiro (int), ponto flutuante (float), booleano (bool) e string (str).\n",
    "Comandos de entrada e saída de dados: input() e print().\n",
    "Operadores aritméticos, relacionais e lógicos.\n"
   ]
  },
  {
   "cell_type": "code",
   "execution_count": 18,
   "id": "6af74f28",
   "metadata": {},
   "outputs": [
    {
     "name": "stdout",
     "output_type": "stream",
     "text": [
      "0\n",
      "0.0\n",
      "string\n",
      "<class 'int'>\n",
      "<class 'float'>\n",
      "<class 'str'>\n"
     ]
    }
   ],
   "source": [
    "inteiro = 0\n",
    "decimal = 0.0\n",
    "frase = \"string\"\n",
    "\n",
    "print(inteiro)\n",
    "print(decimal)\n",
    "print(frase)\n",
    "\n",
    "print(type(inteiro))\n",
    "print(type(decimal))\n",
    "print(type(frase))"
   ]
  },
  {
   "cell_type": "markdown",
   "id": "b96fc273",
   "metadata": {},
   "source": [
    "Tipos primitivos de dados"
   ]
  },
  {
   "cell_type": "code",
   "execution_count": 19,
   "id": "0289ecc9",
   "metadata": {},
   "outputs": [
    {
     "name": "stdout",
     "output_type": "stream",
     "text": [
      "<class 'str'>\n",
      "<class 'int'>\n",
      "<class 'float'>\n",
      "<class 'bool'>\n"
     ]
    }
   ],
   "source": [
    "print(type(\"Olá\")) # <class 'str'> \n",
    "print(type(10))     # <class 'int'> [cite: 113]\n",
    "print(type(25.5))   # <class 'float'> [cite: 114]\n",
    "print(type(True))   # <class 'bool'> [cite: 115]"
   ]
  },
  {
   "cell_type": "markdown",
   "id": "d3045078",
   "metadata": {},
   "source": [
    "# Input()\n",
    "Exemplo de Concatenanção com o input"
   ]
  },
  {
   "cell_type": "code",
   "execution_count": 20,
   "id": "3cc2b8c2",
   "metadata": {},
   "outputs": [
    {
     "name": "stdout",
     "output_type": "stream",
     "text": [
      "O resultado da 'soma' é: 12\n"
     ]
    }
   ],
   "source": [
    "# Pede dois números ao usuário [cite: 101, 102]\n",
    "numero1 = input(\"Digite o primeiro número: \")\n",
    "numero2 = input(\"Digite outro número: \")\n",
    "\n",
    "soma = numero1 + numero2 # Concatena as strings em vez de somar [cite: 103, 105]\n",
    "print(\"O resultado da 'soma' é:\", soma) # [cite: 104]"
   ]
  },
  {
   "cell_type": "markdown",
   "id": "5fd33dff",
   "metadata": {},
   "source": [
    "Dessa forma ao imprimir o conteúdo das variáveis teríamos o sequinte resultado:"
   ]
  },
  {
   "cell_type": "code",
   "execution_count": 21,
   "id": "2ff17b99",
   "metadata": {},
   "outputs": [
    {
     "name": "stdout",
     "output_type": "stream",
     "text": [
      "1\n",
      "2\n",
      "<class 'str'>\n",
      "<class 'str'>\n"
     ]
    }
   ],
   "source": [
    "print(numero1)\n",
    "print(numero2)\n",
    "\n",
    "print(type(numero1))\n",
    "print(type(numero2))"
   ]
  },
  {
   "cell_type": "markdown",
   "id": "5dc21af0",
   "metadata": {},
   "source": [
    "## Tratamento de String\n",
    "\n",
    "O código abaixo demonstra como manipular strings em Python utilizando métodos como `lower()`, que converte todos os caracteres para minúsculo. Observe que espaços em branco no início e fim da string permanecem inalterados."
   ]
  },
  {
   "cell_type": "code",
   "execution_count": 22,
   "id": "ded9409d",
   "metadata": {},
   "outputs": [
    {
     "name": "stdout",
     "output_type": "stream",
     "text": [
      "   hello, world!   \n"
     ]
    }
   ],
   "source": [
    "    s = \"   Hello, World!   \"\n",
    "    result = s.lower()\n",
    "    print(result)\n",
    "    # Output: '   hello, world!   '"
   ]
  },
  {
   "cell_type": "markdown",
   "id": "675faf97",
   "metadata": {},
   "source": [
    "O código abaixo utiliza o método `strip()` para remover espaços em branco do início e do fim da string `s`. Dessa forma, o resultado exibido será a frase sem os espaços extras, mantendo apenas o conteúdo central da string."
   ]
  },
  {
   "cell_type": "code",
   "execution_count": 23,
   "id": "360815a1",
   "metadata": {},
   "outputs": [
    {
     "name": "stdout",
     "output_type": "stream",
     "text": [
      "Hello, World!\n"
     ]
    }
   ],
   "source": [
    "    s = \"   Hello, World!   \"\n",
    "    result = s.strip()\n",
    "    print(result)\n",
    "    # Output: 'Hello, World!'"
   ]
  },
  {
   "cell_type": "markdown",
   "id": "c26a68de",
   "metadata": {},
   "source": [
    "O código abaixo demonstra como aplicar dois métodos de tratamento de strings em sequência: `strip()` para remover espaços em branco do início e fim da string, e `lower()` para converter todos os caracteres para minúsculo. \n",
    "\n",
    "Em relação aos primeiros exemplos de código, que apresentam variáveis do tipo inteiro, ponto flutuante e string, este exemplo reforça que strings em Python possuem métodos específicos para manipulação de seu conteúdo, permitindo transformações como remoção de espaços e alteração de caixa dos caracteres. Isso evidencia a versatilidade do tipo `str` em comparação aos tipos numéricos, que não possuem tais métodos."
   ]
  },
  {
   "cell_type": "code",
   "execution_count": 24,
   "id": "7a7de51c",
   "metadata": {},
   "outputs": [
    {
     "name": "stdout",
     "output_type": "stream",
     "text": [
      "hello, world!\n"
     ]
    }
   ],
   "source": [
    "    s = \"   Hello, World!   \"\n",
    "    result = s.strip().lower()\n",
    "    print(result)\n",
    "    # Output: '   hello, world!   '"
   ]
  },
  {
   "cell_type": "markdown",
   "id": "e470ef78",
   "metadata": {},
   "source": [
    "## Seleções"
   ]
  },
  {
   "cell_type": "code",
   "execution_count": 25,
   "id": "599342a5",
   "metadata": {},
   "outputs": [
    {
     "name": "stdout",
     "output_type": "stream",
     "text": [
      "True\n",
      "<class 'bool'>\n",
      "11\n",
      "<class 'int'>\n",
      "Fico em casa\n"
     ]
    }
   ],
   "source": [
    "possoSair = True\n",
    "saldoBancario = 11\n",
    "\n",
    "print(possoSair)\n",
    "print(type(possoSair))\n",
    "\n",
    "print(saldoBancario)\n",
    "print(type(saldoBancario))\n",
    "\n",
    "if possoSair and saldoBancario > 50:\n",
    "    print(\"Vou a praia\")\n",
    "else:\n",
    "    print(\"Fico em casa\")"
   ]
  },
  {
   "cell_type": "code",
   "execution_count": 26,
   "id": "b141925d",
   "metadata": {},
   "outputs": [
    {
     "name": "stdout",
     "output_type": "stream",
     "text": [
      "True\n",
      "<class 'bool'>\n",
      "11\n",
      "<class 'int'>\n",
      "Fico em casa\n",
      "Como miojo\n"
     ]
    }
   ],
   "source": [
    "possoSair = True\n",
    "saldoBancario = 11\n",
    "\n",
    "print(possoSair)\n",
    "print(type(possoSair))\n",
    "\n",
    "print(saldoBancario)\n",
    "print(type(saldoBancario))\n",
    "\n",
    "if possoSair and saldoBancario > 50:\n",
    "    print(\"Vou a praia\")\n",
    "elif possoSair and saldoBancario > 30:\n",
    "    print(\"Vou ao parque\")\n",
    "else:\n",
    "    print(\"Fico em casa\")\n",
    "\n",
    "if possoSair and saldoBancario > 20:\n",
    "    print(\"Vou comer fora\")\n",
    "elif possoSair and saldoBancario > 15:\n",
    "    print(\"Vou pedir lanche\")\n",
    "else:\n",
    "    print(\"Como miojo\")"
   ]
  },
  {
   "cell_type": "code",
   "execution_count": 27,
   "id": "390686cc",
   "metadata": {},
   "outputs": [
    {
     "name": "stdout",
     "output_type": "stream",
     "text": [
      "True\n",
      "<class 'bool'>\n",
      "11\n",
      "<class 'int'>\n",
      "Fico em casa e como miojo\n"
     ]
    }
   ],
   "source": [
    "possoSair = True\n",
    "saldoBancario = 11\n",
    "\n",
    "print(possoSair)\n",
    "print(type(possoSair))\n",
    "\n",
    "print(saldoBancario)\n",
    "print(type(saldoBancario))\n",
    "\n",
    "if possoSair and saldoBancario > 50:\n",
    "    print(\"Vou a praia\")\n",
    "elif possoSair and saldoBancario > 30:\n",
    "    print(\"Vou ao parque\")\n",
    "elif possoSair and saldoBancario > 20:\n",
    "    print(\"Vou comer fora\")\n",
    "elif possoSair and saldoBancario > 15:\n",
    "    print(\"Vou pedir lanche\")\n",
    "else:\n",
    "    print(\"Fico em casa e como miojo\")"
   ]
  },
  {
   "cell_type": "code",
   "execution_count": 28,
   "id": "1bbc475e",
   "metadata": {},
   "outputs": [
    {
     "name": "stdout",
     "output_type": "stream",
     "text": [
      "True\n",
      "<class 'bool'>\n",
      "11\n",
      "<class 'int'>\n",
      "Tenho mais de 40 reais\n"
     ]
    }
   ],
   "source": [
    "possoSair = True\n",
    "saldoBancario = 11\n",
    "\n",
    "print(possoSair)\n",
    "print(type(possoSair))\n",
    "\n",
    "print(saldoBancario)\n",
    "print(type(saldoBancario))\n",
    "\n",
    "match saldoBancario:\n",
    "    case 0:\n",
    "        print(\"Não tenho dinheiro\")\n",
    "    case 20:\n",
    "        print(\"Tenho 20 reais\")\n",
    "    case 40:\n",
    "        print(\"Tenho 40 reais\")\n",
    "    case _:\n",
    "        print(\"Tenho mais de 40 reais\")"
   ]
  },
  {
   "cell_type": "markdown",
   "id": "4c90cafa",
   "metadata": {},
   "source": [
    "##Repetições"
   ]
  },
  {
   "cell_type": "code",
   "execution_count": 29,
   "id": "f8417afd",
   "metadata": {},
   "outputs": [
    {
     "name": "stdout",
     "output_type": "stream",
     "text": [
      "1\n",
      "2\n",
      "3\n",
      "4\n",
      "5\n"
     ]
    }
   ],
   "source": [
    "for variavel_temporaria in range(1, 6):\n",
    "    # Bloco de código a ser repetido\n",
    "    # Faça algo com a variavel_temporaria\n",
    "    print(variavel_temporaria)"
   ]
  },
  {
   "cell_type": "code",
   "execution_count": 30,
   "id": "56e508d5",
   "metadata": {},
   "outputs": [
    {
     "name": "stdout",
     "output_type": "stream",
     "text": [
      "1\n",
      "2\n",
      "3\n",
      "4\n",
      "5\n"
     ]
    }
   ],
   "source": [
    "sequencia = [1, 2, 3, 4, 5]\n",
    "\n",
    "for variavel_temporaria in sequencia:\n",
    "    # Bloco de código a ser repetido\n",
    "    # Faça algo com a variavel_temporaria\n",
    "    print(variavel_temporaria)"
   ]
  },
  {
   "cell_type": "code",
   "execution_count": 31,
   "id": "bcf1e274",
   "metadata": {},
   "outputs": [
    {
     "name": "stdout",
     "output_type": "stream",
     "text": [
      "1\n",
      "2\n",
      "3\n",
      "4\n",
      "5\n"
     ]
    }
   ],
   "source": [
    "sequencia = [1, 2, 3, 4, 5]\n",
    "\n",
    "for variavel_temporaria in sequencia:\n",
    "    # Bloco de código a ser repetido\n",
    "    # Faça algo com a variavel_temporaria\n",
    "    print(variavel_temporaria)"
   ]
  },
  {
   "cell_type": "code",
   "execution_count": 32,
   "id": "ea223d45",
   "metadata": {},
   "outputs": [
    {
     "name": "stdout",
     "output_type": "stream",
     "text": [
      "Olá, Ana! Você está convidado(a) para a festa.\n",
      "Olá, Bruno! Você está convidado(a) para a festa.\n",
      "Olá, Carla! Você está convidado(a) para a festa.\n"
     ]
    }
   ],
   "source": [
    "# Lista de convidados\n",
    "convidados = ['Ana', 'Bruno', 'Carla']\n",
    "\n",
    "# Para cada nome na lista de convidados, imprima um convite\n",
    "for nome in convidados:\n",
    "    print(f\"Olá, {nome}! Você está convidado(a) para a festa.\")"
   ]
  },
  {
   "cell_type": "code",
   "execution_count": 33,
   "id": "50fdabc9",
   "metadata": {},
   "outputs": [
    {
     "name": "stdout",
     "output_type": "stream",
     "text": [
      "Olá, Ana! Você está convidado(a) para a festa.\n",
      "Olá, Bruno! Você está convidado(a) para a festa.\n",
      "Olá, Carla! Você está convidado(a) para a festa.\n"
     ]
    }
   ],
   "source": [
    "# Lista de convidados\n",
    "convidados = ['Ana', 'Bruno', 'Carla']\n",
    "\n",
    "# Para cada nome na lista de convidados, imprima um convite\n",
    "for nome in convidados:\n",
    "    print(f\"Olá, {nome}! Você está convidado(a) para a festa.\")"
   ]
  },
  {
   "cell_type": "markdown",
   "id": "2c171002",
   "metadata": {},
   "source": [
    "O código abaixo utiliza um loop `while` que continua executando enquanto a variável `condicao` for verdadeira. Dentro do loop, o valor de `condicao` é impresso e, em seguida, ela é alterada para `False`, fazendo com que o loop seja encerrado após a primeira execução."
   ]
  },
  {
   "cell_type": "code",
   "execution_count": 34,
   "id": "56174d49",
   "metadata": {},
   "outputs": [
    {
     "name": "stdout",
     "output_type": "stream",
     "text": [
      "True\n"
     ]
    }
   ],
   "source": [
    "condicao = True\n",
    "while condicao:\n",
    "    # Bloco de código a ser repetido\n",
    "    # IMPORTANTE: Algo aqui dentro deve mudar a condição!\n",
    "    print(condicao)\n",
    "    condicao = False"
   ]
  },
  {
   "cell_type": "markdown",
   "id": "aad43166",
   "metadata": {},
   "source": [
    "O código abaixo utiliza um loop `while` para contar regressivamente a partir do valor da variável `numero` (inicialmente 5) até 1. A cada iteração, o valor de `numero` é impresso e decrementado em 1. Quando `numero` chega a 0, o loop termina e a mensagem \"Decolar!\" é exibida, simulando uma contagem regressiva para lançamento."
   ]
  },
  {
   "cell_type": "code",
   "execution_count": 35,
   "id": "d9d93c85",
   "metadata": {},
   "outputs": [
    {
     "name": "stdout",
     "output_type": "stream",
     "text": [
      "5\n",
      "4\n",
      "3\n",
      "2\n",
      "1\n",
      "Decolar!\n"
     ]
    }
   ],
   "source": [
    "numero = 5\n",
    "\n",
    "# Enquanto o número for maior que 0...\n",
    "while numero > 0:\n",
    "    print(numero)\n",
    "    numero = numero - 1 # ...diminua o número em 1\n",
    "\n",
    "print(\"Decolar!\")"
   ]
  },
  {
   "cell_type": "code",
   "execution_count": null,
   "id": "2e64ca40",
   "metadata": {},
   "outputs": [],
   "source": [
    "# while para validar entrada\n",
    "resposta = \"\"\n",
    "while resposta != \"sim\":\n",
    "    resposta = input(\"Você aceita os termos? (sim/não) \")\n",
    "    print(\"Você respondeu:\", resposta)"
   ]
  },
  {
   "cell_type": "markdown",
   "id": "7bbeec84",
   "metadata": {},
   "source": [
    "# Lista de Exercícios\n",
    "\n",
    "## Exercício 01\n",
    "\n",
    "- Criar código python equivalente para o fluxograma.\n",
    "- Variáveis de decisão devem ser inseridas pelo usuário\n"
   ]
  },
  {
   "cell_type": "code",
   "execution_count": 37,
   "id": "708aa5f2",
   "metadata": {},
   "outputs": [
    {
     "name": "stdout",
     "output_type": "stream",
     "text": [
      "Tenho roupa lavada :  True\n",
      "Tem culto hoje :  False\n",
      "<class 'bool'>\n",
      "<class 'bool'>\n",
      "Fico em casa\n"
     ]
    }
   ],
   "source": [
    "tenhoRoupa = input(\"Tenho roupa lavada? (sim/não): \").strip().lower() == \"sim\"\n",
    "temCulto = input(\"Tem culto hoje? (sim/não): \").strip().lower() == \"sim\"\n",
    "\n",
    "print(\"Tenho roupa lavada : \", tenhoRoupa)\n",
    "print(\"Tem culto hoje : \", temCulto)\n",
    "\n",
    "print(type(tenhoRoupa))\n",
    "print(type(temCulto))\n",
    "\n",
    "if not tenhoRoupa:\n",
    "    print(\"Lavo roupa\")\n",
    "    print(\"Fico em casa\")\n",
    "elif tenhoRoupa and temCulto:\n",
    "    print(\"Vou ao culto\")\n",
    "else:\n",
    "    print(\"Fico em casa\")"
   ]
  },
  {
   "cell_type": "markdown",
   "id": "1dbca446",
   "metadata": {},
   "source": [
    "## Exercício 02\n",
    "\n",
    "- Criar código python que peça dois números, exiba o resultado da operação selecionada utilizando match-case:\n",
    "    - **1**   |   + (Adição)\n",
    "    - **2**   |   - (Subtração)\n",
    "    - **3**   |   * (Multiplicação)\n",
    "    - **4**   |   / (Divisão real)\n",
    "    - **5**   |   // (Divisão inteira)\n",
    "    - **6**   |   % (Módulo - resto da divisão)\n",
    "    - **7**   |   ** (Exponenciação)"
   ]
  },
  {
   "cell_type": "code",
   "execution_count": 38,
   "id": "e5bc0680",
   "metadata": {},
   "outputs": [
    {
     "name": "stdout",
     "output_type": "stream",
     "text": [
      "O resultado da multiplicação é: 2.0\n"
     ]
    }
   ],
   "source": [
    "numero1 = float(input(\"Digite o primeiro número: \"))\n",
    "numero2 = float(input(\"Digite o segundo número: \"))\n",
    "operacao = input(\"Escolha a operação (1-7): \")\n",
    "\n",
    "match operacao:\n",
    "    case \"1\":\n",
    "        resultado = numero1 + numero2\n",
    "        print(f\"O resultado da adição é: {resultado}\")\n",
    "    case \"2\":\n",
    "        resultado = numero1 - numero2\n",
    "        print(f\"O resultado da subtração é: {resultado}\")\n",
    "    case \"3\":\n",
    "        resultado = numero1 * numero2\n",
    "        print(f\"O resultado da multiplicação é: {resultado}\")\n",
    "    case \"4\":\n",
    "        if numero2 != 0:\n",
    "            resultado = numero1 / numero2\n",
    "            print(f\"O resultado da divisão real é: {resultado}\")\n",
    "        else:\n",
    "            print(\"Erro: Divisão por zero não é permitida.\")\n",
    "    case \"5\":\n",
    "        if numero2 != 0:\n",
    "            resultado = numero1 // numero2\n",
    "            print(f\"O resultado da divisão inteira é: {resultado}\")\n",
    "        else:\n",
    "            print(\"Erro: Divisão por zero não é permitida.\")\n",
    "    case \"6\":\n",
    "        if numero2 != 0:\n",
    "            resultado = numero1 % numero2\n",
    "            print(f\"O resultado do módulo é: {resultado}\")\n",
    "        else:\n",
    "            print(\"Erro: Divisão por zero não é permitida.\")\n",
    "    case \"7\":\n",
    "        resultado = numero1 ** numero2\n",
    "        print(f\"O resultado da exponenciação é: {resultado}\")\n",
    "    # --- IGNORE ---\n",
    "    case _:\n",
    "        print(\"Operação inválida. Por favor, escolha um número entre 1 e 7.\")\n",
    "    # --- IGNORE ---"
   ]
  },
  {
   "cell_type": "markdown",
   "id": "63ca709a",
   "metadata": {},
   "source": [
    "## Exercício 03\n",
    "\n",
    "- Desenvolver um programa completo que:\n",
    "    - Peça o nome e o ano de nascimento do usuário.\n",
    "    - Calcule a idade aproximada do usuário (Ano Atual - Ano de Nascimento).\n",
    "    - Peça a altura do usuário em metros (ex: 1.75).\n",
    "    - Exiba uma mensagem final formatada como: \"Olá, [Nome]! Você tem aproximadamente [Idade] anos e sua altura é [altura]”\n",
    "\n"
   ]
  }
 ],
 "metadata": {
  "kernelspec": {
   "display_name": "Python 3",
   "language": "python",
   "name": "python3"
  },
  "language_info": {
   "codemirror_mode": {
    "name": "ipython",
    "version": 3
   },
   "file_extension": ".py",
   "mimetype": "text/x-python",
   "name": "python",
   "nbconvert_exporter": "python",
   "pygments_lexer": "ipython3",
   "version": "3.12.4"
  }
 },
 "nbformat": 4,
 "nbformat_minor": 5
}
