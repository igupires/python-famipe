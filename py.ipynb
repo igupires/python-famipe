{
 "cells": [
  {
   "cell_type": "markdown",
   "id": "13a4db1b",
   "metadata": {},
   "source": [
    "# Aula 07\n",
    "## Revisão\n",
    "Primeiros passos com Python: o interpretador interativo.\n",
    "Conceito de variáveis e constantes.\n",
    "Tipos de dados primitivos: inteiro (int), ponto flutuante (float), booleano (bool) e string (str).\n",
    "Comandos de entrada e saída de dados: input() e print().\n",
    "Operadores aritméticos, relacionais e lógicos.\n"
   ]
  },
  {
   "cell_type": "code",
   "execution_count": 1,
   "id": "6af74f28",
   "metadata": {},
   "outputs": [
    {
     "name": "stdout",
     "output_type": "stream",
     "text": [
      "0\n",
      "0.0\n",
      "string\n",
      "<class 'int'>\n",
      "<class 'float'>\n",
      "<class 'str'>\n"
     ]
    }
   ],
   "source": [
    "inteiro = 0\n",
    "decimal = 0.0\n",
    "frase = \"string\"\n",
    "\n",
    "print(inteiro)\n",
    "print(decimal)\n",
    "print(frase)\n",
    "\n",
    "print(type(inteiro))\n",
    "print(type(decimal))\n",
    "print(type(frase))"
   ]
  },
  {
   "cell_type": "markdown",
   "id": "b96fc273",
   "metadata": {},
   "source": [
    "Tipos primitivos de dados"
   ]
  },
  {
   "cell_type": "code",
   "execution_count": 2,
   "id": "0289ecc9",
   "metadata": {},
   "outputs": [
    {
     "name": "stdout",
     "output_type": "stream",
     "text": [
      "<class 'str'>\n",
      "<class 'int'>\n",
      "<class 'float'>\n",
      "<class 'bool'>\n"
     ]
    }
   ],
   "source": [
    "print(type(\"Olá\")) # <class 'str'> \n",
    "print(type(10))     # <class 'int'> [cite: 113]\n",
    "print(type(25.5))   # <class 'float'> [cite: 114]\n",
    "print(type(True))   # <class 'bool'> [cite: 115]"
   ]
  },
  {
   "cell_type": "markdown",
   "id": "d3045078",
   "metadata": {},
   "source": [
    "# Input()\n",
    "Exemplo de Concatenanção com o input"
   ]
  },
  {
   "cell_type": "code",
   "execution_count": 7,
   "id": "3cc2b8c2",
   "metadata": {},
   "outputs": [
    {
     "name": "stdout",
     "output_type": "stream",
     "text": [
      "O resultado da 'soma' é: 12\n"
     ]
    }
   ],
   "source": [
    "# Pede dois números ao usuário [cite: 101, 102]\n",
    "numero1 = input(\"Digite o primeiro número: \")\n",
    "numero2 = input(\"Digite outro número: \")\n",
    "\n",
    "soma = numero1 + numero2 # Concatena as strings em vez de somar [cite: 103, 105]\n",
    "print(\"O resultado da 'soma' é:\", soma) # [cite: 104]"
   ]
  },
  {
   "cell_type": "markdown",
   "id": "5fd33dff",
   "metadata": {},
   "source": [
    "Dessa forma ao imprimir o conteúdo das variáveis teríamos o sequinte resultado:"
   ]
  },
  {
   "cell_type": "code",
   "execution_count": null,
   "id": "2ff17b99",
   "metadata": {},
   "outputs": [
    {
     "name": "stdout",
     "output_type": "stream",
     "text": [
      "1\n",
      "2\n"
     ]
    }
   ],
   "source": [
    "print(numero1)\n",
    "print(numero2)\n",
    "\n",
    "print(type(numero1))\n",
    "print(type(numero2))"
   ]
  },
  {
   "cell_type": "markdown",
   "id": "e470ef78",
   "metadata": {},
   "source": [
    "## Seleções"
   ]
  },
  {
   "cell_type": "code",
   "execution_count": null,
   "id": "599342a5",
   "metadata": {},
   "outputs": [],
   "source": [
    "possoSair = True\n",
    "saldoBancario = 11\n",
    "\n",
    "print(possoSair)\n",
    "print(type(possoSair))\n",
    "\n",
    "print(saldoBancario)\n",
    "print(type(saldoBancario))\n",
    "\n",
    "if possoSair and saldoBancario > 50:\n",
    "    print(\"Vou a praia\")\n",
    "else:\n",
    "    print(\"Fico em casa\")"
   ]
  },
  {
   "cell_type": "code",
   "execution_count": null,
   "id": "b141925d",
   "metadata": {},
   "outputs": [],
   "source": [
    "possoSair = True\n",
    "saldoBancario = 11\n",
    "\n",
    "print(possoSair)\n",
    "print(type(possoSair))\n",
    "\n",
    "print(saldoBancario)\n",
    "print(type(saldoBancario))\n",
    "\n",
    "if possoSair and saldoBancario > 50:\n",
    "    print(\"Vou a praia\")\n",
    "elif possoSair and saldoBancario > 30:\n",
    "    print(\"Vou ao parque\")\n",
    "else:\n",
    "    print(\"Fico em casa\")\n",
    "\n",
    "if possoSair and saldoBancario > 20:\n",
    "    print(\"Vou comer fora\")\n",
    "elif possoSair and saldoBancario > 15:\n",
    "    print(\"Vou pedir lanche\")\n",
    "else:\n",
    "    print(\"Como miojo\")"
   ]
  },
  {
   "cell_type": "code",
   "execution_count": null,
   "id": "390686cc",
   "metadata": {},
   "outputs": [],
   "source": [
    "possoSair = True\n",
    "saldoBancario = 11\n",
    "\n",
    "print(possoSair)\n",
    "print(type(possoSair))\n",
    "\n",
    "print(saldoBancario)\n",
    "print(type(saldoBancario))\n",
    "\n",
    "if possoSair and saldoBancario > 50:\n",
    "    print(\"Vou a praia\")\n",
    "elif possoSair and saldoBancario > 30:\n",
    "    print(\"Vou ao parque\")\n",
    "elif possoSair and saldoBancario > 20:\n",
    "    print(\"Vou comer fora\")\n",
    "elif possoSair and saldoBancario > 15:\n",
    "    print(\"Vou pedir lanche\")\n",
    "else:\n",
    "    print(\"Fico em casa e como miojo\")"
   ]
  },
  {
   "cell_type": "code",
   "execution_count": null,
   "id": "1bbc475e",
   "metadata": {},
   "outputs": [],
   "source": [
    "possoSair = True\n",
    "saldoBancario = 11\n",
    "\n",
    "print(possoSair)\n",
    "print(type(possoSair))\n",
    "\n",
    "print(saldoBancario)\n",
    "print(type(saldoBancario))\n",
    "\n",
    "match saldoBancario:\n",
    "    case 0:\n",
    "        print(\"Não tenho dinheiro\")\n",
    "    case 20:\n",
    "        print(\"Tenho 20 reais\")\n",
    "    case 40:\n",
    "        print(\"Tenho 40 reais\")\n",
    "    case _:\n",
    "        print(\"Tenho mais de 40 reais\")"
   ]
  },
  {
   "cell_type": "markdown",
   "id": "4c90cafa",
   "metadata": {},
   "source": [
    "##Repetições"
   ]
  }
 ],
 "metadata": {
  "kernelspec": {
   "display_name": "Python 3",
   "language": "python",
   "name": "python3"
  },
  "language_info": {
   "codemirror_mode": {
    "name": "ipython",
    "version": 3
   },
   "file_extension": ".py",
   "mimetype": "text/x-python",
   "name": "python",
   "nbconvert_exporter": "python",
   "pygments_lexer": "ipython3",
   "version": "3.12.4"
  }
 },
 "nbformat": 4,
 "nbformat_minor": 5
}
