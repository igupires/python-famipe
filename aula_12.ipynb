{
 "cells": [
  {
   "cell_type": "markdown",
   "id": "e56a4add",
   "metadata": {},
   "source": [
    "# Aula 12\n",
    "\n",
    "## Funções\n",
    "\n",
    "Chamar (invocar) funções para executar a lógica encapsulada.\n",
    "\n",
    "### Motivação\n",
    "\n",
    "**O Problema do \"Copiar e Colar\":**\n",
    "\n",
    "Mostre um código simples que realiza a mesma tarefa (ex: calcular a média de uma lista de notas) em três lugares diferentes. Destaque a repetição.\n",
    "\n",
    "Pergunte: \"E se precisarmos mudar a fórmula do cálculo? Teríamos que alterá-la em três lugares diferentes! E se errarmos em um deles?\"\n",
    "\n",
    "Isso introduz o conceito DRY (Don't Repeat Yourself - Não se Repita).\n",
    "\n",
    "**A Solução: Empacotar a Lógica:**\n",
    "\n",
    "Analogia Principal: Uma Receita de Bolo.\n",
    "\n",
    "Uma função é como uma receita: ela tem um nome (\"Receita de Bolo de Chocolate\"), uma lista de ingredientes (os parâmetros) e um conjunto de passos (o corpo da função).\n",
    "\n",
    "Uma vez que você define a receita, pode \"chamá-la\" quantas vezes quiser, com ingredientes ligeiramente diferentes, e o resultado será sempre um bolo de chocolate. Você não precisa reescrever os passos toda vez.\n",
    "\n",
    "**Benefícios:**\n",
    "\n",
    "Reutilização: Escreva uma vez, use várias vezes.\n",
    "\n",
    "Organização: Divide um programa grande em partes menores e mais gerenciáveis.\n",
    "\n",
    "Manutenção: Mude em um só lugar, e a mudança se reflete em todo o programa.\n",
    "\n",
    "Abstração: Você pode usar a função sem precisar saber os detalhes de como ela funciona internamente.\n",
    "\n",
    "**Definindo uma Função (def):**"
   ]
  },
  {
   "cell_type": "code",
   "execution_count": 34,
   "id": "c2a1cf77",
   "metadata": {},
   "outputs": [
    {
     "name": "stdout",
     "output_type": "stream",
     "text": [
      "Olá, Alice! Tenha um ótimo dia.\n"
     ]
    }
   ],
   "source": [
    "# Palavra-chave 'def' | nome_da_funcao | (parâmetros) | :\n",
    "def saudacao(nome):\n",
    "    \"\"\"Esta é uma docstring. Ela explica o que a função faz.\"\"\"\n",
    "    print(f\"Olá, {nome}! Tenha um ótimo dia.\")\n",
    "    \n",
    "saudacao(\"Alice\")"
   ]
  },
  {
   "cell_type": "markdown",
   "id": "ab3953a8",
   "metadata": {},
   "source": [
    "Nome da Função: Use nomes de verbos que descrevam a ação (calcular_media, validar_email).\n",
    "\n",
    "Parâmetros: São as \"variáveis de entrada\" da função, os ingredientes da receita.\n",
    "\n",
    "Docstring: é uma boa prática documentar o que a função faz."
   ]
  },
  {
   "cell_type": "code",
   "execution_count": 35,
   "id": "5449f93e",
   "metadata": {},
   "outputs": [
    {
     "name": "stdout",
     "output_type": "stream",
     "text": [
      "Olá, Ana! Tenha um ótimo dia.\n",
      "Olá, Marcos! Tenha um ótimo dia.\n"
     ]
    }
   ],
   "source": [
    "# Chamando a função e passando o 'argumento'\n",
    "saudacao(\"Ana\")\n",
    "saudacao(\"Marcos\")"
   ]
  },
  {
   "cell_type": "markdown",
   "id": "357ee79d",
   "metadata": {},
   "source": [
    "Diferença Crucial: Parâmetros vs. Argumentos:\n",
    "\n",
    "Parâmetro (nome): A variável na definição da função (o espaço reservado para o ingrediente).\n",
    "\n",
    "Argumento (\"Ana\"): O valor real que você passa na chamada da função (o ingrediente que você usa)."
   ]
  },
  {
   "cell_type": "markdown",
   "id": "0d9ab12a",
   "metadata": {},
   "source": [
    "### Retorno\n",
    "\n",
    "Funções que Fazem Algo vs. Funções que Dão uma Resposta:\n",
    "\n",
    "A função saudação faz algo (imprime na tela), mas não retorna um valor que possamos usar depois.\n",
    "\n",
    "**E se quisermos calcular algo e guardar o resultado em uma variável?**"
   ]
  },
  {
   "cell_type": "code",
   "execution_count": 36,
   "id": "c7e486c6",
   "metadata": {},
   "outputs": [
    {
     "name": "stdout",
     "output_type": "stream",
     "text": [
      "O resultado da soma é: 15\n",
      "O dobro da soma é: 14\n"
     ]
    }
   ],
   "source": [
    "def somar(a, b):\n",
    "    \"\"\"Calcula a soma de dois números e retorna o resultado.\"\"\"\n",
    "    resultado = a + b\n",
    "    return resultado\n",
    "\n",
    "# Chamando a função e ARMAZENANDO o valor retornado\n",
    "total = somar(5, 10)\n",
    "print(f\"O resultado da soma é: {total}\")\n",
    "\n",
    "# Pode ser usada diretamente em outras expressões\n",
    "print(f\"O dobro da soma é: {somar(3, 4) * 2}\")"
   ]
  },
  {
   "cell_type": "markdown",
   "id": "1e282ce9",
   "metadata": {},
   "source": [
    "**return** envia um valor de volta para onde a função foi chamada e termina a execução da função imediatamente."
   ]
  },
  {
   "cell_type": "markdown",
   "id": "66a8300f",
   "metadata": {},
   "source": [
    "### Escopo\n",
    "\n",
    "**Conceito:** O escopo define a acessibilidade de uma variável. Nem todas as variáveis são acessíveis de todos os lugares do código.\n",
    "\n",
    "**Analogia:** Casa e Quartos.\n",
    "\n",
    "**Escopo Global (A Casa):** Variáveis declaradas fora de qualquer função. São acessíveis de qualquer lugar do programa (de dentro da sala, da cozinha, dos quartos).\n",
    "\n",
    "**Escopo Local (Os Quartos):** Variáveis declaradas dentro de uma função (incluindo parâmetros). Elas só existem e são acessíveis dentro daquele quarto (daquela função)."
   ]
  },
  {
   "cell_type": "code",
   "execution_count": 37,
   "id": "9c47da0a",
   "metadata": {},
   "outputs": [
    {
     "name": "stdout",
     "output_type": "stream",
     "text": [
      "Dentro da função, posso ver a local: 'Eu vivo apenas dentro da função'\n",
      "Dentro da função, posso ver a global: 'Eu vivo fora da função'\n",
      "\n",
      "Fora da função, posso ver a global: 'Eu vivo fora da função'\n"
     ]
    }
   ],
   "source": [
    "variavel_global = \"Eu vivo fora da função\" # Escopo Global\n",
    "\n",
    "def minha_funcao():\n",
    "    variavel_local = \"Eu vivo apenas dentro da função\" # Escopo Local\n",
    "    print(f\"Dentro da função, posso ver a local: '{variavel_local}'\")\n",
    "    print(f\"Dentro da função, posso ver a global: '{variavel_global}'\")\n",
    "\n",
    "minha_funcao()\n",
    "\n",
    "print(f\"\\nFora da função, posso ver a global: '{variavel_global}'\")\n",
    "# A linha abaixo VAI gerar um NameError!\n",
    "# print(f\"Fora da função, não posso ver a local: '{variavel_local}'\")"
   ]
  },
  {
   "cell_type": "markdown",
   "id": "1ae579fb",
   "metadata": {},
   "source": [
    "Ponto-chave: Funções são \"caixas-pretas\". Elas não devem modificar variáveis globais diretamente (isso é má prática). Elas devem receber dados via parâmetros e devolver resultados via return."
   ]
  },
  {
   "cell_type": "code",
   "execution_count": 38,
   "id": "f07e980a",
   "metadata": {},
   "outputs": [],
   "source": [
    "#print(f\"\\nFora da função, não posso ver a local: '{variavel_local}'\") # Vai gerar um NameError!"
   ]
  },
  {
   "cell_type": "markdown",
   "id": "bc9307c1",
   "metadata": {},
   "source": [
    "# Tuplas\n",
    "\n",
    "Lembre que strings são sequências imutáveis, suportando índice e fatiamento."
   ]
  },
  {
   "cell_type": "code",
   "execution_count": 39,
   "id": "acccc133",
   "metadata": {},
   "outputs": [
    {
     "name": "stdout",
     "output_type": "stream",
     "text": [
      "Configurações do Servidor:\n",
      " - Endereço IP: 192.168.1.1\n",
      " - Porta: 8080\n",
      " - Status: ativo\n"
     ]
    }
   ],
   "source": [
    "configuracoes_servidor = [\"192.168.1.1\", 8080, \"ativo\"]\n",
    "\n",
    "def exibir_configuracoes(configuracoes):\n",
    "    print(\"Configurações do Servidor:\")\n",
    "    print(f\" - Endereço IP: {configuracoes[0]}\")\n",
    "    print(f\" - Porta: {configuracoes[1]}\")\n",
    "    print(f\" - Status: {configuracoes[2]}\")\n",
    "\n",
    "exibir_configuracoes(configuracoes_servidor)"
   ]
  },
  {
   "cell_type": "markdown",
   "id": "4e9cfb71",
   "metadata": {},
   "source": [
    "O que acontece se, por um erro em outra parte do código, alguém fizer *configuracoes_servidor[1] = 9000*?"
   ]
  },
  {
   "cell_type": "code",
   "execution_count": 40,
   "id": "15723d5d",
   "metadata": {},
   "outputs": [
    {
     "name": "stdout",
     "output_type": "stream",
     "text": [
      "\n",
      "Após modificação:\n",
      "Configurações do Servidor:\n",
      " - Endereço IP: 192.168.1.1\n",
      " - Porta: 9000\n",
      " - Status: ativo\n"
     ]
    }
   ],
   "source": [
    "configuracoes_servidor[1] = 9000  # Modificando a porta\n",
    "print(\"\\nApós modificação:\")    \n",
    "exibir_configuracoes(configuracoes_servidor)"
   ]
  },
  {
   "cell_type": "markdown",
   "id": "5d7c35b2",
   "metadata": {},
   "source": [
    "A configuração vital do servidor foi corrompida! Como podemos criar uma coleção de dados que seja à prova de alterações acidentais?"
   ]
  },
  {
   "cell_type": "code",
   "execution_count": 41,
   "id": "29518de1",
   "metadata": {},
   "outputs": [
    {
     "name": "stdout",
     "output_type": "stream",
     "text": [
      "Configurações do Servidor:\n",
      " - Endereço IP: 192.168.1.1\n",
      " - Porta: 8080\n",
      " - Status: ativo\n"
     ]
    }
   ],
   "source": [
    "configuracoes_servidor_tupla = (\"192.168.1.1\", 8080, \"ativo\")\n",
    "\n",
    "def exibir_configuracoes_tupla(configuracoes):\n",
    "    print(\"Configurações do Servidor:\")\n",
    "    print(f\" - Endereço IP: {configuracoes[0]}\")\n",
    "    print(f\" - Porta: {configuracoes[1]}\")\n",
    "    print(f\" - Status: {configuracoes[2]}\")\n",
    "\n",
    "exibir_configuracoes_tupla(configuracoes_servidor_tupla)\n"
   ]
  },
  {
   "cell_type": "markdown",
   "id": "8424f310",
   "metadata": {},
   "source": [
    "**Uma Lista** é como um quadro branco: você pode escrever, apagar, adicionar e remover informações livremente.\n",
    "\n",
    "**Uma Tupla** é como uma placa de pedra: uma vez que a informação é gravada, ela não pode ser alterada. É permanente."
   ]
  },
  {
   "cell_type": "code",
   "execution_count": 42,
   "id": "8ddcfe22",
   "metadata": {},
   "outputs": [],
   "source": [
    "# Este código VAI gerar um erro!\n",
    "#configuracoes_servidor_tupla[1] = 9000\n",
    "# TypeError: 'tuple' object does not support item assignment"
   ]
  },
  {
   "cell_type": "markdown",
   "id": "f7c43993",
   "metadata": {},
   "source": [
    "Por serem imutáveis, tuplas não possuem métodos como .append(), .remove(), .pop() ou .sort()\n",
    "\n",
    "## Criação"
   ]
  },
  {
   "cell_type": "code",
   "execution_count": 43,
   "id": "b078a287",
   "metadata": {},
   "outputs": [
    {
     "name": "stdout",
     "output_type": "stream",
     "text": [
      "<class 'tuple'>\n",
      "(1, 'olá', True)\n"
     ]
    }
   ],
   "source": [
    "minha_tupla = (1, \"olá\", True)\n",
    "\n",
    "print(type(minha_tupla))  # <class 'tuple'>\n",
    "print(minha_tupla)        # (1, 'olá', True)"
   ]
  },
  {
   "cell_type": "markdown",
   "id": "c5858242",
   "metadata": {},
   "source": [
    "**Caso Especial (Tupla de um elemento)**: Existe a necessidade da vírgula final."
   ]
  },
  {
   "cell_type": "code",
   "execution_count": 44,
   "id": "978db776",
   "metadata": {},
   "outputs": [
    {
     "name": "stdout",
     "output_type": "stream",
     "text": [
      "<class 'int'>\n",
      "<class 'tuple'>\n"
     ]
    }
   ],
   "source": [
    "nao_e_tupla = (5)   # Isso é apenas o número 5\n",
    "e_uma_tupla = (5,)  # A vírgula define como tupla\n",
    "print(type(nao_e_tupla)) # <class 'int'>\n",
    "print(type(e_uma_tupla))  # <class 'tuple'>"
   ]
  },
  {
   "cell_type": "markdown",
   "id": "4c7bedeb",
   "metadata": {},
   "source": [
    "Os parênteses são opcionais em alguns contextos, mas que usá-los é uma boa prática para clareza: outra_tupla = 1, 2, 3"
   ]
  },
  {
   "cell_type": "code",
   "execution_count": 45,
   "id": "38b8b858",
   "metadata": {},
   "outputs": [
    {
     "name": "stdout",
     "output_type": "stream",
     "text": [
      "<class 'tuple'>\n",
      "(1, 2, 3)\n"
     ]
    }
   ],
   "source": [
    "outra_tupla = 1, 2, 3\n",
    "\n",
    "print(type(outra_tupla))  # <class 'tuple'>\n",
    "print(outra_tupla)        # (1, 2, 3)"
   ]
  },
  {
   "cell_type": "markdown",
   "id": "e76ac192",
   "metadata": {},
   "source": [
    "## Fatiamento"
   ]
  },
  {
   "cell_type": "code",
   "execution_count": 46,
   "id": "098ac3db",
   "metadata": {},
   "outputs": [
    {
     "name": "stdout",
     "output_type": "stream",
     "text": [
      "O primeiro elemento é: vermelho\n",
      "O último elemento é: azul\n",
      "Uma fatia da tupla: ('vermelho', 'verde')\n"
     ]
    }
   ],
   "source": [
    "rgb = (\"vermelho\", \"verde\", \"azul\")\n",
    "# Índices:     0          1        2\n",
    "# Negativos:  -3         -2       -1\n",
    "\n",
    "print(f\"O primeiro elemento é: {rgb[0]}\")\n",
    "print(f\"O último elemento é: {rgb[-1]}\")\n",
    "print(f\"Uma fatia da tupla: {rgb[0:2]}\") # ('vermelho', 'verde')"
   ]
  },
  {
   "cell_type": "markdown",
   "id": "2cc7107a",
   "metadata": {},
   "source": [
    " ## Desempacotamento\n",
    " \n",
    " Desempacotamento (unpacking) é uma forma elegante e \"Pythonica\" de atribuir os elementos de uma tupla (ou outra sequência) a múltiplas variáveis em uma única linha."
   ]
  },
  {
   "cell_type": "code",
   "execution_count": 47,
   "id": "4a805b33",
   "metadata": {},
   "outputs": [
    {
     "name": "stdout",
     "output_type": "stream",
     "text": [
      "Coordenadas: x=10, y=20, z=5\n"
     ]
    }
   ],
   "source": [
    "# Jeito tradicional\n",
    "ponto_3d_lista = [10, 20, 5]\n",
    "x_lista = ponto_3d_lista[0]\n",
    "y_lista = ponto_3d_lista[1]\n",
    "z_lista = ponto_3d_lista[2]\n",
    "\n",
    "# Com desempacotamento de tupla\n",
    "ponto_3d_tupla = (10, 20, 5)\n",
    "x, y, z = ponto_3d_tupla # A mágica acontece aqui!\n",
    "print(f\"Coordenadas: x={x}, y={y}, z={z}\")"
   ]
  },
  {
   "cell_type": "markdown",
   "id": "df71bf43",
   "metadata": {},
   "source": [
    "## Retorno de tuplas\n",
    "\n",
    "Retornando Múltiplos Valores de uma Função: Este é o uso mais comum e importante."
   ]
  },
  {
   "cell_type": "code",
   "execution_count": 48,
   "id": "04478923",
   "metadata": {},
   "outputs": [
    {
     "name": "stdout",
     "output_type": "stream",
     "text": [
      "O menor valor é 1 e o maior é 22.\n"
     ]
    }
   ],
   "source": [
    "def calcular_min_max(dados):\n",
    "    # Encontra o menor e o maior número em uma lista\n",
    "    return (min(dados), max(dados))\n",
    "\n",
    "numeros = [5, 12, 3, 8, 22, 1]\n",
    "menor, maior = calcular_min_max(numeros) # Desempacotando o resultado\n",
    "print(f\"O menor valor é {menor} e o maior é {maior}.\")"
   ]
  },
  {
   "cell_type": "markdown",
   "id": "059fd333",
   "metadata": {},
   "source": [
    "## Paralelo com dicionários\n",
    "\n",
    "aluno.items() retorna uma sequência de tuplas (chave, valor) e que o laço for chave, valor in ... é um desempacotamento a cada iteração!"
   ]
  },
  {
   "cell_type": "code",
   "execution_count": 49,
   "id": "e8b1aa72",
   "metadata": {},
   "outputs": [
    {
     "name": "stdout",
     "output_type": "stream",
     "text": [
      "\n",
      "Chaves do dicionário:\n",
      "nome: Maria Silva\n",
      "idade: 25\n",
      "curso: Engenharia de Software\n",
      "matricula_ativa: True\n"
     ]
    }
   ],
   "source": [
    "aluno = {\n",
    "    \"nome\": \"Maria Silva\",\n",
    "    \"idade\": 25,\n",
    "    \"curso\": \"Engenharia de Software\",\n",
    "    \"matricula_ativa\": True\n",
    "}\n",
    "\n",
    "print(\"\\nChaves do dicionário:\")\n",
    "for chave, valor in aluno.items():\n",
    "    print(f\"{chave}: {valor}\")"
   ]
  },
  {
   "cell_type": "markdown",
   "id": "3e7911c6",
   "metadata": {},
   "source": [
    "## Resumo\n",
    "\n",
    "**Use uma TUPLA quando:**\n",
    "\n",
    "* Integridade dos Dados é Crucial: Os dados não devem mudar (Ex: coordenadas RGB (255, 0, 0), configurações fixas, registros de banco de dados que não devem ser alterados).\n",
    "\n",
    "* Funções Precisam Retornar Múltiplos Valores: É o padrão em Python para agrupar múltiplos resultados.\n",
    "\n",
    "* Performance: Tuplas são ligeiramente mais rápidas e consomem menos memória que listas, o que pode ser relevante em programas com grandes volumes de dados.\n",
    "\n",
    "* Chaves de Dicionário: Se você precisar de uma chave de dicionário que seja uma coleção, ela precisa ser uma tupla (pois chaves devem ser imutáveis)."
   ]
  }
 ],
 "metadata": {
  "kernelspec": {
   "display_name": "Python 3",
   "language": "python",
   "name": "python3"
  },
  "language_info": {
   "codemirror_mode": {
    "name": "ipython",
    "version": 3
   },
   "file_extension": ".py",
   "mimetype": "text/x-python",
   "name": "python",
   "nbconvert_exporter": "python",
   "pygments_lexer": "ipython3",
   "version": "3.12.4"
  }
 },
 "nbformat": 4,
 "nbformat_minor": 5
}
