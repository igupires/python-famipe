{
 "cells": [
  {
   "cell_type": "markdown",
   "id": "555800dc",
   "metadata": {},
   "source": [
    "# Aula 11\n",
    "\n",
    "## Dicionários\n",
    "\n",
    "\"Você não procura a definição de uma palavra pelo número da página (índice). Você procura pela própria palavra (a chave). A palavra é a chave, e a definição é o valor.\"\n",
    "\n",
    "### Motivação\n",
    "\n",
    "**Definição Formal:**\n",
    "\n",
    "Apresente o dicionário (**dict**) como uma coleção não ordenada (*historicamente*) de pares **chave-valor**.\n",
    "\n",
    "Chaves (**keys**): São os \"rótulos\". Devem ser únicas e imutáveis (strings e números são os mais comuns).\n",
    "\n",
    "Valores (**values**): São os dados associados a cada chave. Podem ser de qualquer tipo (números, strings, listas, até outros dicionários)."
   ]
  },
  {
   "cell_type": "code",
   "execution_count": 19,
   "id": "7f792381",
   "metadata": {},
   "outputs": [],
   "source": [
    "aluno_lista = [\"Maria\", 25, \"Engenharia\"]"
   ]
  },
  {
   "cell_type": "markdown",
   "id": "7b773d5e",
   "metadata": {},
   "source": [
    "O que aluno_lista[1] significa? Idade? Nota? Precisamos adivinhar pelo contexto. E se a ordem mudar?\n",
    "\n",
    "Isso mostra a limitação de depender apenas de índices numéricos para dados complexos."
   ]
  },
  {
   "cell_type": "code",
   "execution_count": 2,
   "id": "03363251",
   "metadata": {},
   "outputs": [
    {
     "name": "stdout",
     "output_type": "stream",
     "text": [
      "{'nome': 'Maria Silva', 'idade': 25, 'curso': 'Engenharia de Software', 'matricula_ativa': True}\n",
      "-\n",
      "<class 'dict'>\n",
      "-\n"
     ]
    }
   ],
   "source": [
    "aluno = {\n",
    "    \"nome\": \"Maria Silva\",\n",
    "    \"idade\": 25,\n",
    "    \"curso\": \"Engenharia de Software\",\n",
    "    \"matricula_ativa\": True\n",
    "}\n",
    "\n",
    "print(aluno)\n",
    "print('-')\n",
    "print(type(aluno))\n",
    "print('-')"
   ]
  },
  {
   "cell_type": "markdown",
   "id": "8375a212",
   "metadata": {},
   "source": [
    "### Acesso\n",
    "\n",
    "Exemplo de acesso no dicionário"
   ]
  },
  {
   "cell_type": "code",
   "execution_count": 3,
   "id": "e91eb336",
   "metadata": {},
   "outputs": [
    {
     "name": "stdout",
     "output_type": "stream",
     "text": [
      "Nome: Maria Silva\n",
      "Idade: 25\n",
      "Curso: Engenharia de Software\n",
      "Matrícula Ativa: True\n"
     ]
    }
   ],
   "source": [
    "print(\"Nome:\", aluno[\"nome\"])\n",
    "print(\"Idade:\", aluno[\"idade\"])\n",
    "print(\"Curso:\", aluno[\"curso\"])\n",
    "print(\"Matrícula Ativa:\", aluno[\"matricula_ativa\"])"
   ]
  },
  {
   "cell_type": "code",
   "execution_count": 4,
   "id": "b8dcb366",
   "metadata": {},
   "outputs": [
    {
     "name": "stdout",
     "output_type": "stream",
     "text": [
      "Nome do aluno: Maria Silva\n",
      "Cidade: Não informada\n"
     ]
    }
   ],
   "source": [
    "print(f\"Nome do aluno: {aluno['nome']}\")\n",
    "print(f\"Cidade: {aluno.get('cidade', 'Não informada')}\") # Não gera erro"
   ]
  },
  {
   "cell_type": "markdown",
   "id": "788e6f2c",
   "metadata": {},
   "source": [
    "### Atualização"
   ]
  },
  {
   "cell_type": "code",
   "execution_count": 5,
   "id": "8b6455c0",
   "metadata": {},
   "outputs": [
    {
     "name": "stdout",
     "output_type": "stream",
     "text": [
      "Dados atualizados: {'nome': 'Maria Silva', 'idade': 26, 'curso': 'Engenharia de Software', 'matricula_ativa': True, 'cidade': 'Rio de Janeiro'}\n"
     ]
    }
   ],
   "source": [
    "# Atualizando um valor existente\n",
    "aluno[\"idade\"] = 26\n",
    "# Inserindo um novo par chave-valor\n",
    "aluno[\"cidade\"] = \"Rio de Janeiro\"\n",
    "print(f\"Dados atualizados: {aluno}\")"
   ]
  },
  {
   "cell_type": "markdown",
   "id": "056cbcd6",
   "metadata": {},
   "source": [
    "### Remoção"
   ]
  },
  {
   "cell_type": "code",
   "execution_count": 6,
   "id": "7ebd9f45",
   "metadata": {},
   "outputs": [
    {
     "name": "stdout",
     "output_type": "stream",
     "text": [
      "Aluno sem a cidade 'Rio de Janeiro' e matrícula: {'nome': 'Maria Silva', 'idade': 26, 'curso': 'Engenharia de Software'}\n"
     ]
    }
   ],
   "source": [
    "del aluno[\"matricula_ativa\"]\n",
    "cidade_removida = aluno.pop(\"cidade\")\n",
    "print(f\"Aluno sem a cidade '{cidade_removida}' e matrícula: {aluno}\")"
   ]
  },
  {
   "cell_type": "markdown",
   "id": "3f564901",
   "metadata": {},
   "source": [
    "### FOR (Iteração)\n",
    "\n",
    "#### Iteração por chaves"
   ]
  },
  {
   "cell_type": "code",
   "execution_count": 7,
   "id": "44c77335",
   "metadata": {},
   "outputs": [
    {
     "name": "stdout",
     "output_type": "stream",
     "text": [
      "\n",
      "Chaves do dicionário:\n",
      "nome\n",
      "idade\n",
      "curso\n"
     ]
    }
   ],
   "source": [
    "print(\"\\nChaves do dicionário:\")\n",
    "for chave in aluno: # ou aluno.keys()\n",
    "    print(chave)"
   ]
  },
  {
   "cell_type": "code",
   "execution_count": 8,
   "id": "860a49df",
   "metadata": {},
   "outputs": [
    {
     "name": "stdout",
     "output_type": "stream",
     "text": [
      "\n",
      "Chaves do dicionário:\n",
      "nome\n",
      "idade\n",
      "curso\n"
     ]
    }
   ],
   "source": [
    "print(\"\\nChaves do dicionário:\")\n",
    "for chave in aluno.keys():\n",
    "    print(chave)"
   ]
  },
  {
   "cell_type": "markdown",
   "id": "55fcecb4",
   "metadata": {},
   "source": [
    "#### Percorrendo Valores"
   ]
  },
  {
   "cell_type": "code",
   "execution_count": 9,
   "id": "96b79bfe",
   "metadata": {},
   "outputs": [
    {
     "name": "stdout",
     "output_type": "stream",
     "text": [
      "\n",
      "Valores do dicionário:\n",
      "Maria Silva\n",
      "26\n",
      "Engenharia de Software\n"
     ]
    }
   ],
   "source": [
    "print(\"\\nValores do dicionário:\")\n",
    "for valor in aluno.values():\n",
    "    print(valor)"
   ]
  },
  {
   "cell_type": "markdown",
   "id": "cbe3fba0",
   "metadata": {},
   "source": [
    "#### Percorrendo Valores e Itens"
   ]
  },
  {
   "cell_type": "code",
   "execution_count": 10,
   "id": "6aa5aecb",
   "metadata": {},
   "outputs": [
    {
     "name": "stdout",
     "output_type": "stream",
     "text": [
      "\n",
      "Chaves do dicionário:\n",
      "nome: Maria Silva\n",
      "idade: 26\n",
      "curso: Engenharia de Software\n"
     ]
    }
   ],
   "source": [
    "print(\"\\nChaves do dicionário:\")\n",
    "for chave, valor in aluno.items():\n",
    "    print(f\"{chave}: {valor}\")"
   ]
  },
  {
   "cell_type": "markdown",
   "id": "216c2f06",
   "metadata": {},
   "source": [
    "# Manipulação Avançada de Strings\n",
    "\n",
    "Lembre que strings são sequências imutáveis, suportando índice e fatiamento."
   ]
  },
  {
   "cell_type": "code",
   "execution_count": 11,
   "id": "7b4f101f",
   "metadata": {},
   "outputs": [
    {
     "name": "stdout",
     "output_type": "stream",
     "text": [
      "   Produto: Notebook Gamer, Preço: 5000.00   \n"
     ]
    }
   ],
   "source": [
    "raw_data = \"   Produto: Notebook Gamer, Preço: 5000.00   \"\n",
    "\n",
    "print(raw_data)"
   ]
  },
  {
   "cell_type": "markdown",
   "id": "a8ddced9",
   "metadata": {},
   "source": [
    "### Limpeza\n",
    "\n",
    "**.strip()**:Remove espaços em branco do início e do fim. Essencial para tratar input de usuário!"
   ]
  },
  {
   "cell_type": "code",
   "execution_count": 12,
   "id": "8d58d2e6",
   "metadata": {},
   "outputs": [
    {
     "name": "stdout",
     "output_type": "stream",
     "text": [
      "Produto: Notebook Gamer, Preço: 5000.00\n"
     ]
    }
   ],
   "source": [
    "dados_limpos = raw_data.strip()\n",
    "\n",
    "print(dados_limpos)"
   ]
  },
  {
   "cell_type": "markdown",
   "id": "fae59970",
   "metadata": {},
   "source": [
    "### Formatação em Caixa Alta-Baixa\n",
    "\n",
    "**.upper()**:Transforma todos os caracteres de texto em caixa alta (upper case)."
   ]
  },
  {
   "cell_type": "code",
   "execution_count": 13,
   "id": "ba2b05a1",
   "metadata": {},
   "outputs": [
    {
     "name": "stdout",
     "output_type": "stream",
     "text": [
      "PRODUTO: NOTEBOOK GAMER, PREÇO: 5000.00\n"
     ]
    }
   ],
   "source": [
    "print(dados_limpos.upper()) # TUDO MAIÚSCULO"
   ]
  },
  {
   "cell_type": "markdown",
   "id": "47ea2a7a",
   "metadata": {},
   "source": [
    "**.lower()**:Transforma todos os caracteres de texto em caixa baixa (lower case)."
   ]
  },
  {
   "cell_type": "code",
   "execution_count": 14,
   "id": "0b690acc",
   "metadata": {},
   "outputs": [
    {
     "name": "stdout",
     "output_type": "stream",
     "text": [
      "produto: notebook gamer, preço: 5000.00\n"
     ]
    }
   ],
   "source": [
    "print(dados_limpos.lower()) # TUDO MINÚSCULO"
   ]
  },
  {
   "cell_type": "markdown",
   "id": "9dbf67da",
   "metadata": {},
   "source": [
    "**.title()**:Transforma todos os caracteres de texto em caixa alta inicial (title case)."
   ]
  },
  {
   "cell_type": "code",
   "execution_count": 15,
   "id": "7bd286ba",
   "metadata": {},
   "outputs": [
    {
     "name": "stdout",
     "output_type": "stream",
     "text": [
      "Produto: Notebook Gamer, Preço: 5000.00\n"
     ]
    }
   ],
   "source": [
    "print(dados_limpos.title()) # Tudo Em Maiúsculo Inicial"
   ]
  },
  {
   "cell_type": "markdown",
   "id": "31fbdb87",
   "metadata": {},
   "source": [
    "## Divisão ou Junção\n",
    "\n",
    "**.split(limitador)**:Transforma um string em uma lista de strings de acordo com o delimitador selecionado."
   ]
  },
  {
   "cell_type": "code",
   "execution_count": 16,
   "id": "d3165835",
   "metadata": {},
   "outputs": [
    {
     "name": "stdout",
     "output_type": "stream",
     "text": [
      "['Produto: Notebook Gamer', 'Preço: 5000.00']\n",
      "Produto: Produto: Notebook Gamer\n",
      "Preço: Preço: 5000.00\n"
     ]
    }
   ],
   "source": [
    "# Divide a string em uma lista de duas partes, usando \", \" como separador\n",
    "partes = dados_limpos.split(\", \")\n",
    "print(partes) # ['Produto: Notebook Pro', 'Preço: 5000.00']\n",
    "\n",
    "# Acessa cada parte da lista\n",
    "produto = partes[0]\n",
    "preco = partes[1]\n",
    "print(f\"Produto: {produto}\")\n",
    "print(f\"Preço: {preco}\")"
   ]
  },
  {
   "cell_type": "markdown",
   "id": "9b7f8f78",
   "metadata": {},
   "source": [
    "**'delimitador'.join(lista)**: Transforma uma lista de strings de volta em uma string."
   ]
  },
  {
   "cell_type": "code",
   "execution_count": 17,
   "id": "55d4c0d8",
   "metadata": {},
   "outputs": [
    {
     "name": "stdout",
     "output_type": "stream",
     "text": [
      "Produto: Notebook Gamer, Preço: 5000.00\n"
     ]
    }
   ],
   "source": [
    "print(', '.join(partes))"
   ]
  },
  {
   "cell_type": "markdown",
   "id": "3b36f741",
   "metadata": {},
   "source": [
    "# Formatação com F-Strings\n",
    "\n",
    "Apresente f-strings como a maneira mais legível e eficiente."
   ]
  },
  {
   "cell_type": "code",
   "execution_count": 18,
   "id": "3c97a4f8",
   "metadata": {},
   "outputs": [
    {
     "name": "stdout",
     "output_type": "stream",
     "text": [
      "Produto: NOTEBOOK | Estoque: 15 unidades | Preço: R$ 4999.90\n"
     ]
    }
   ],
   "source": [
    "produto = \"Notebook\"\n",
    "preco = 4999.90\n",
    "estoque = 15\n",
    "\n",
    "# Formatação simples\n",
    "resumo = f\"{produto} - R$ {preco}\"\n",
    "\n",
    "# Formatação com controle de casas decimais e chamadas de métodos\n",
    "relatorio = f\"Produto: {produto.upper()} | Estoque: {estoque} unidades | Preço: R$ {preco:.2f}\"\n",
    "print(relatorio)"
   ]
  }
 ],
 "metadata": {
  "kernelspec": {
   "display_name": "Python 3",
   "language": "python",
   "name": "python3"
  },
  "language_info": {
   "codemirror_mode": {
    "name": "ipython",
    "version": 3
   },
   "file_extension": ".py",
   "mimetype": "text/x-python",
   "name": "python",
   "nbconvert_exporter": "python",
   "pygments_lexer": "ipython3",
   "version": "3.12.4"
  }
 },
 "nbformat": 4,
 "nbformat_minor": 5
}
