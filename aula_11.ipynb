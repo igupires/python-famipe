{
  "cells": [
    {
      "cell_type": "markdown",
      "id": "80e5dc5e",
      "metadata": {
        "colab_type": "text",
        "id": "view-in-github"
      },
      "source": [
        "<a href=\"https://colab.research.google.com/github/igupires/python-famipe/blob/main/aula_11.ipynb\" target=\"_parent\"><img src=\"https://colab.research.google.com/assets/colab-badge.svg\" alt=\"Open In Colab\"/></a>"
      ]
    },
    {
      "cell_type": "markdown",
      "id": "555800dc",
      "metadata": {
        "id": "555800dc"
      },
      "source": [
        "# Aula 11\n",
        "\n",
        "## Dicionários\n",
        "\n",
        "\"Você não procura a definição de uma palavra pelo número da página (índice). Você procura pela própria palavra (a chave). A palavra é a chave, e a definição é o valor.\"\n",
        "\n",
        "### Motivação\n",
        "\n",
        "**Definição Formal:**\n",
        "\n",
        "Apresente o dicionário (**dict**) como uma coleção não ordenada (*historicamente*) de pares **chave-valor**.\n",
        "\n",
        "Chaves (**keys**): São os \"rótulos\". Devem ser únicas e imutáveis (strings e números são os mais comuns).\n",
        "\n",
        "Valores (**values**): São os dados associados a cada chave. Podem ser de qualquer tipo (números, strings, listas, até outros dicionários)."
      ]
    },
    {
      "cell_type": "code",
      "execution_count": 27,
      "id": "7f792381",
      "metadata": {
        "id": "7f792381"
      },
      "outputs": [],
      "source": [
        "aluno_lista = [\"Maria\", 25, \"Engenharia\"]"
      ]
    },
    {
      "cell_type": "markdown",
      "id": "7b773d5e",
      "metadata": {
        "id": "7b773d5e"
      },
      "source": [
        "O que aluno_lista[1] significa? Idade? Nota? Precisamos adivinhar pelo contexto. E se a ordem mudar?\n",
        "\n",
        "Isso mostra a limitação de depender apenas de índices numéricos para dados complexos."
      ]
    },
    {
      "cell_type": "code",
      "execution_count": 28,
      "id": "03363251",
      "metadata": {
        "colab": {
          "base_uri": "https://localhost:8080/"
        },
        "id": "03363251",
        "outputId": "8437df7f-8d09-4462-fcc2-3c9d70fb73f9"
      },
      "outputs": [
        {
          "name": "stdout",
          "output_type": "stream",
          "text": [
            "{'nome': 'Maria Silva', 'idade': 25, 'curso': 'Engenharia de Software', 'matricula_ativa': True}\n",
            "<class 'dict'>\n"
          ]
        }
      ],
      "source": [
        "aluno = {\n",
        "    \"nome\": \"Maria Silva\",\n",
        "    \"idade\": 25,\n",
        "    \"curso\": \"Engenharia de Software\",\n",
        "    \"matricula_ativa\": True\n",
        "}\n",
        "\n",
        "print(aluno)\n",
        "print(type(aluno))"
      ]
    },
    {
      "cell_type": "markdown",
      "id": "8375a212",
      "metadata": {
        "id": "8375a212"
      },
      "source": [
        "### Acesso\n",
        "\n",
        "Exemplo de acesso no dicionário"
      ]
    },
    {
      "cell_type": "code",
      "execution_count": 29,
      "id": "e91eb336",
      "metadata": {
        "colab": {
          "base_uri": "https://localhost:8080/"
        },
        "id": "e91eb336",
        "outputId": "63bdf99c-ac85-42f0-cc81-283edbd68a34"
      },
      "outputs": [
        {
          "name": "stdout",
          "output_type": "stream",
          "text": [
            "Nome: Maria Silva\n",
            "Idade: 25\n",
            "Curso: Engenharia de Software\n",
            "Matrícula Ativa: True\n"
          ]
        }
      ],
      "source": [
        "print(\"Nome:\", aluno[\"nome\"])\n",
        "print(\"Idade:\", aluno[\"idade\"])\n",
        "print(\"Curso:\", aluno[\"curso\"])\n",
        "print(\"Matrícula Ativa:\", aluno[\"matricula_ativa\"])"
      ]
    },
    {
      "cell_type": "code",
      "execution_count": 30,
      "id": "b8dcb366",
      "metadata": {
        "colab": {
          "base_uri": "https://localhost:8080/"
        },
        "id": "b8dcb366",
        "outputId": "b263cafd-9fd6-414d-aa36-0ec18da5a5df"
      },
      "outputs": [
        {
          "name": "stdout",
          "output_type": "stream",
          "text": [
            "Nome do aluno: Maria Silva\n",
            "Cidade: Não informada\n"
          ]
        }
      ],
      "source": [
        "print(f\"Nome do aluno: {aluno['nome']}\")\n",
        "print(f\"Cidade: {aluno.get('cidade', 'Não informada')}\") # Não gera erro"
      ]
    },
    {
      "cell_type": "markdown",
      "id": "788e6f2c",
      "metadata": {
        "id": "788e6f2c"
      },
      "source": [
        "### Atualização"
      ]
    },
    {
      "cell_type": "code",
      "execution_count": 31,
      "id": "8b6455c0",
      "metadata": {
        "colab": {
          "base_uri": "https://localhost:8080/"
        },
        "id": "8b6455c0",
        "outputId": "e117033e-da07-452c-92ce-119e0268f2ef"
      },
      "outputs": [
        {
          "name": "stdout",
          "output_type": "stream",
          "text": [
            "Dados atualizados:\n",
            " -  Nome: Maria Silva\n",
            " -  Idade: 26\n",
            " -  Curso: Engenharia de Software\n",
            " -  Matrícula Ativa: True,\n",
            " -  Cidade: Rio de Janeiro\n"
          ]
        }
      ],
      "source": [
        "# Atualizando um valor existente\n",
        "aluno[\"idade\"] = 26\n",
        "# Inserindo um novo par chave-valor\n",
        "aluno[\"cidade\"] = \"Rio de Janeiro\"\n",
        "print(f\"Dados atualizados:\")\n",
        "print(f\" -  Nome: {aluno['nome']}\")\n",
        "print(f\" -  Idade: {aluno['idade']}\")\n",
        "print(f\" -  Curso: {aluno['curso']}\")\n",
        "print(f\" -  Matrícula Ativa: {aluno['matricula_ativa']},\")\n",
        "print(f\" -  Cidade: {aluno['cidade']}\")"
      ]
    },
    {
      "cell_type": "markdown",
      "id": "056cbcd6",
      "metadata": {
        "id": "056cbcd6"
      },
      "source": [
        "### Remoção"
      ]
    },
    {
      "cell_type": "code",
      "execution_count": 32,
      "id": "7ebd9f45",
      "metadata": {
        "colab": {
          "base_uri": "https://localhost:8080/"
        },
        "id": "7ebd9f45",
        "outputId": "7c372528-1abb-489d-cd8d-821c1f6bf37a"
      },
      "outputs": [
        {
          "name": "stdout",
          "output_type": "stream",
          "text": [
            "Aluno sem a cidade 'Rio de Janeiro' e matrícula:\n",
            " -  Nome: Maria Silva\n",
            " -  Idade: 26\n",
            " -  Curso: Engenharia de Software\n",
            " -  Matrícula Ativa: False,\n",
            " -  Cidade: Desconhecida\n"
          ]
        }
      ],
      "source": [
        "del aluno[\"matricula_ativa\"]\n",
        "cidade_removida = aluno.pop(\"cidade\")\n",
        "print(f\"Aluno sem a cidade '{cidade_removida}' e matrícula:\")\n",
        "print(f\" -  Nome: {aluno['nome']}\")\n",
        "print(f\" -  Idade: {aluno['idade']}\")\n",
        "print(f\" -  Curso: {aluno['curso']}\")\n",
        "print(f\" -  Matrícula Ativa: {aluno.get('matricula_ativa', False)},\")\n",
        "print(f\" -  Cidade: {aluno.get('cidade', 'Desconhecida')}\")"
      ]
    },
    {
      "cell_type": "markdown",
      "id": "3f564901",
      "metadata": {
        "id": "3f564901"
      },
      "source": [
        "### FOR (Iteração)\n",
        "\n",
        "#### Iteração por chaves"
      ]
    },
    {
      "cell_type": "code",
      "execution_count": 33,
      "id": "44c77335",
      "metadata": {
        "colab": {
          "base_uri": "https://localhost:8080/"
        },
        "id": "44c77335",
        "outputId": "cd9fe12e-2214-46ef-a25f-c90c010f2a30"
      },
      "outputs": [
        {
          "name": "stdout",
          "output_type": "stream",
          "text": [
            "\n",
            "Chaves do dicionário:\n",
            "nome\n",
            "idade\n",
            "curso\n"
          ]
        }
      ],
      "source": [
        "print(\"\\nChaves do dicionário:\")\n",
        "for chave in aluno: # ou aluno.keys()\n",
        "    print(chave)"
      ]
    },
    {
      "cell_type": "code",
      "execution_count": 34,
      "id": "860a49df",
      "metadata": {
        "colab": {
          "base_uri": "https://localhost:8080/"
        },
        "id": "860a49df",
        "outputId": "88d6d689-4d58-42b8-fad7-f106454d2f91"
      },
      "outputs": [
        {
          "name": "stdout",
          "output_type": "stream",
          "text": [
            "\n",
            "Chaves do dicionário:\n",
            "nome\n",
            "idade\n",
            "curso\n"
          ]
        }
      ],
      "source": [
        "print(\"\\nChaves do dicionário:\")\n",
        "for chave in aluno.keys():\n",
        "    print(chave)"
      ]
    },
    {
      "cell_type": "markdown",
      "id": "55fcecb4",
      "metadata": {
        "id": "55fcecb4"
      },
      "source": [
        "#### Percorrendo Valores"
      ]
    },
    {
      "cell_type": "code",
      "execution_count": 35,
      "id": "96b79bfe",
      "metadata": {
        "colab": {
          "base_uri": "https://localhost:8080/"
        },
        "id": "96b79bfe",
        "outputId": "6dc418fd-001d-4163-9efe-e968764f1d3d"
      },
      "outputs": [
        {
          "name": "stdout",
          "output_type": "stream",
          "text": [
            "\n",
            "Valores do dicionário:\n",
            "Maria Silva\n",
            "26\n",
            "Engenharia de Software\n"
          ]
        }
      ],
      "source": [
        "print(\"\\nValores do dicionário:\")\n",
        "for valor in aluno.values():\n",
        "    print(valor)"
      ]
    },
    {
      "cell_type": "markdown",
      "id": "cbe3fba0",
      "metadata": {
        "id": "cbe3fba0"
      },
      "source": [
        "#### Percorrendo Valores e Itens"
      ]
    },
    {
      "cell_type": "code",
      "execution_count": 36,
      "id": "6aa5aecb",
      "metadata": {
        "colab": {
          "base_uri": "https://localhost:8080/"
        },
        "id": "6aa5aecb",
        "outputId": "1f545cb3-8754-4bbd-a9d8-81f7d2ab4692"
      },
      "outputs": [
        {
          "name": "stdout",
          "output_type": "stream",
          "text": [
            "\n",
            "Chaves do dicionário:\n",
            "nome: Maria Silva\n",
            "idade: 26\n",
            "curso: Engenharia de Software\n"
          ]
        }
      ],
      "source": [
        "print(\"\\nChaves do dicionário:\")\n",
        "for chave, valor in aluno.items():\n",
        "    print(f\"{chave}: {valor}\")"
      ]
    },
    {
      "cell_type": "markdown",
      "id": "216c2f06",
      "metadata": {
        "id": "216c2f06"
      },
      "source": [
        "# Manipulação Avançada de Strings\n",
        "\n",
        "Lembre que strings são sequências imutáveis, suportando índice e fatiamento."
      ]
    },
    {
      "cell_type": "code",
      "execution_count": 46,
      "id": "7b4f101f",
      "metadata": {
        "colab": {
          "base_uri": "https://localhost:8080/"
        },
        "id": "7b4f101f",
        "outputId": "8537533b-0c21-41a3-d167-771f8f89ea10"
      },
      "outputs": [
        {
          "name": "stdout",
          "output_type": "stream",
          "text": [
            "   Produto: Notebook Gamer, Preço: 5000.00   \n",
            "   Produto\n",
            ":\n"
          ]
        }
      ],
      "source": [
        "raw_data = \"   Produto: Notebook Gamer, Preço: 5000.00   \"\n",
        "\n",
        "print(raw_data)\n",
        "print(raw_data[0:10])\n",
        "print(raw_data[10])"
      ]
    },
    {
      "cell_type": "markdown",
      "id": "a8ddced9",
      "metadata": {
        "id": "a8ddced9"
      },
      "source": [
        "### Limpeza\n",
        "\n",
        "**.strip()**:Remove espaços em branco do início e do fim. Essencial para tratar input de usuário!"
      ]
    },
    {
      "cell_type": "code",
      "execution_count": 38,
      "id": "8d58d2e6",
      "metadata": {
        "colab": {
          "base_uri": "https://localhost:8080/"
        },
        "id": "8d58d2e6",
        "outputId": "66b3e7ad-e9e8-4471-ab2b-c69ea2643ed7"
      },
      "outputs": [
        {
          "name": "stdout",
          "output_type": "stream",
          "text": [
            "Produto: Notebook Gamer, Preço: 5000.00\n"
          ]
        }
      ],
      "source": [
        "dados_limpos = raw_data.strip()\n",
        "\n",
        "print(dados_limpos)"
      ]
    },
    {
      "cell_type": "markdown",
      "id": "fae59970",
      "metadata": {
        "id": "fae59970"
      },
      "source": [
        "### Formatação em Caixa Alta-Baixa\n",
        "\n",
        "**.upper()**:Transforma todos os caracteres de texto em caixa alta (upper case)."
      ]
    },
    {
      "cell_type": "code",
      "execution_count": 39,
      "id": "ba2b05a1",
      "metadata": {
        "colab": {
          "base_uri": "https://localhost:8080/"
        },
        "id": "ba2b05a1",
        "outputId": "47a48d8e-435f-4682-a02e-b191f3fc35ca"
      },
      "outputs": [
        {
          "name": "stdout",
          "output_type": "stream",
          "text": [
            "PRODUTO: NOTEBOOK GAMER, PREÇO: 5000.00\n"
          ]
        }
      ],
      "source": [
        "print(dados_limpos.upper()) # TUDO MAIÚSCULO"
      ]
    },
    {
      "cell_type": "markdown",
      "id": "47ea2a7a",
      "metadata": {
        "id": "47ea2a7a"
      },
      "source": [
        "**.lower()**:Transforma todos os caracteres de texto em caixa baixa (lower case)."
      ]
    },
    {
      "cell_type": "code",
      "execution_count": 40,
      "id": "0b690acc",
      "metadata": {
        "colab": {
          "base_uri": "https://localhost:8080/"
        },
        "id": "0b690acc",
        "outputId": "af15e6d0-5435-44d9-d526-2a5c92aa6de7"
      },
      "outputs": [
        {
          "name": "stdout",
          "output_type": "stream",
          "text": [
            "produto: notebook gamer, preço: 5000.00\n"
          ]
        }
      ],
      "source": [
        "print(dados_limpos.lower()) # TUDO MINÚSCULO"
      ]
    },
    {
      "cell_type": "markdown",
      "id": "9dbf67da",
      "metadata": {
        "id": "9dbf67da"
      },
      "source": [
        "**.title()**:Transforma todos os caracteres de texto em caixa alta inicial (title case)."
      ]
    },
    {
      "cell_type": "code",
      "execution_count": 41,
      "id": "7bd286ba",
      "metadata": {
        "colab": {
          "base_uri": "https://localhost:8080/"
        },
        "id": "7bd286ba",
        "outputId": "ed58c216-0157-49dd-ce63-e9be64def8c1"
      },
      "outputs": [
        {
          "name": "stdout",
          "output_type": "stream",
          "text": [
            "Produto: Notebook Gamer, Preço: 5000.00\n"
          ]
        }
      ],
      "source": [
        "print(dados_limpos.title()) # Tudo Em Maiúsculo Inicial"
      ]
    },
    {
      "cell_type": "markdown",
      "id": "31fbdb87",
      "metadata": {
        "id": "31fbdb87"
      },
      "source": [
        "## Divisão ou Junção\n",
        "\n",
        "**.split(limitador)**:Transforma um string em uma lista de strings de acordo com o delimitador selecionado."
      ]
    },
    {
      "cell_type": "code",
      "execution_count": 42,
      "id": "d3165835",
      "metadata": {
        "colab": {
          "base_uri": "https://localhost:8080/"
        },
        "id": "d3165835",
        "outputId": "23d8d617-ae05-48c0-e6d1-77254802ced1"
      },
      "outputs": [
        {
          "name": "stdout",
          "output_type": "stream",
          "text": [
            "['Produto: Notebook Gamer', 'Preço: 5000.00']\n",
            "Produto: Produto: Notebook Gamer\n",
            "Preço: Preço: 5000.00\n"
          ]
        }
      ],
      "source": [
        "# Divide a string em uma lista de duas partes, usando \", \" como separador\n",
        "partes = dados_limpos.split(\", \")\n",
        "print(partes) # ['Produto: Notebook Pro', 'Preço: 5000.00']\n",
        "\n",
        "# Acessa cada parte da lista\n",
        "produto = partes[0]\n",
        "preco = partes[1]\n",
        "print(f\"Produto: {produto}\")\n",
        "print(f\"Preço: {preco}\")"
      ]
    },
    {
      "cell_type": "markdown",
      "id": "9b7f8f78",
      "metadata": {
        "id": "9b7f8f78"
      },
      "source": [
        "**'delimitador'.join(lista)**: Transforma uma lista de strings de volta em uma string."
      ]
    },
    {
      "cell_type": "code",
      "execution_count": 43,
      "id": "55d4c0d8",
      "metadata": {
        "colab": {
          "base_uri": "https://localhost:8080/"
        },
        "id": "55d4c0d8",
        "outputId": "7110f7fd-c9a4-4d90-a325-75ad6c67ced7"
      },
      "outputs": [
        {
          "name": "stdout",
          "output_type": "stream",
          "text": [
            "Produto: Notebook Gamer, Preço: 5000.00\n"
          ]
        }
      ],
      "source": [
        "print(', '.join(partes))"
      ]
    },
    {
      "cell_type": "markdown",
      "id": "3b36f741",
      "metadata": {
        "id": "3b36f741"
      },
      "source": [
        "# Formatação com F-Strings\n",
        "\n",
        "Apresente f-strings como a maneira mais legível e eficiente."
      ]
    },
    {
      "cell_type": "code",
      "execution_count": 44,
      "id": "3c97a4f8",
      "metadata": {
        "colab": {
          "base_uri": "https://localhost:8080/"
        },
        "id": "3c97a4f8",
        "outputId": "df41d6b4-b7db-4db7-ef32-7b96373f4108"
      },
      "outputs": [
        {
          "name": "stdout",
          "output_type": "stream",
          "text": [
            "Produto: NOTEBOOK | Estoque: 15 unidades | Preço: R$ 4999.90\n"
          ]
        }
      ],
      "source": [
        "produto = \"Notebook\"\n",
        "preco = 4999.90\n",
        "estoque = 15\n",
        "\n",
        "# Formatação simples\n",
        "resumo = f\"{produto} - R$ {preco}\"\n",
        "\n",
        "# Formatação com controle de casas decimais e chamadas de métodos\n",
        "relatorio = f\"Produto: {produto.upper()} | Estoque: {estoque} unidades | Preço: R$ {preco:.2f}\"\n",
        "print(relatorio)"
      ]
    }
  ],
  "metadata": {
    "colab": {
      "include_colab_link": true,
      "provenance": []
    },
    "kernelspec": {
      "display_name": "Python 3",
      "language": "python",
      "name": "python3"
    },
    "language_info": {
      "codemirror_mode": {
        "name": "ipython",
        "version": 3
      },
      "file_extension": ".py",
      "mimetype": "text/x-python",
      "name": "python",
      "nbconvert_exporter": "python",
      "pygments_lexer": "ipython3",
      "version": "3.12.4"
    }
  },
  "nbformat": 4,
  "nbformat_minor": 5
}
