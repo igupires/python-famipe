{
 "cells": [
  {
   "cell_type": "markdown",
   "id": "e56a4add",
   "metadata": {},
   "source": [
    "# Aula 14\n",
    "\n",
    "## Objetos\n",
    "\n",
    "Chamar (invocar) funções para executar a lógica encapsulada.\n",
    "\n",
    "Criando a planta para nossos objetos.\n",
    "\n",
    "Uma Classe não é o objeto em si, mas sim o molde, a planta baixa ou a receita para criar objetos.\n",
    "\n",
    "A Classe (O Molde): Define quais atributos (características) e métodos (ações) todos os objetos daquele tipo terão.\n",
    "\n",
    "Ex: A classe Carro define que todo carro terá cor, marca e ano, e poderá ligar(), acelerar() e frear().\n",
    "\n",
    "O Objeto (A Instância): É a coisa real criada a partir do molde. Cada objeto tem seus próprios valores para os atributos.\n",
    "\n",
    "Ex: meu_fusca é um objeto da classe Carro com cor=\"Azul\" e marca=\"VW\". carro_vizinho é outro objeto com cor=\"Vermelho\" e marca=\"Fiat\".\n"
   ]
  },
  {
   "cell_type": "code",
   "execution_count": 3,
   "id": "314aaaaf",
   "metadata": {},
   "outputs": [
    {
     "name": "stdout",
     "output_type": "stream",
     "text": [
      "Azul\n",
      "Vermelho\n"
     ]
    }
   ],
   "source": [
    "class Carro:\n",
    "    def __init__(self, cor):\n",
    "        self.cor = cor\n",
    "\n",
    "# Instanciação: criando dois objetos distintos da classe Carro\n",
    "meu_fusca = Carro(\"Azul\")\n",
    "carro_do_vizinho = Carro(\"Vermelho\")\n",
    "\n",
    "# Cada objeto tem seus próprios dados\n",
    "print(meu_fusca.cor)      # Saída: Azul\n",
    "print(carro_do_vizinho.cor) # Saída: Vermelho"
   ]
  },
  {
   "cell_type": "markdown",
   "id": "65ab638f",
   "metadata": {},
   "source": [
    "### Criando um objeto (instanciando a classe):\n",
    "Uma vez que um objeto é criado, podemos interagir com ele de duas maneiras principais:\n",
    "* Acessar e Modificar Atributos: Ler ou alterar os dados (estado) do objeto.\n",
    "* Sintaxe: nome_do_objeto.nome_do_atributo\n",
    "* Chamar Métodos: Executar as ações (comportamentos) que o objeto pode realizar.\n",
    "* Sintaxe: nome_do_objeto.nome_do_metodo()"
   ]
  },
  {
   "cell_type": "code",
   "execution_count": 4,
   "id": "2fd8b47b",
   "metadata": {},
   "outputs": [
    {
     "name": "stdout",
     "output_type": "stream",
     "text": [
      "Saldo inicial: 0.0\n",
      "Saldo final: 150.0\n"
     ]
    }
   ],
   "source": [
    "class Conta:\n",
    "    def __init__(self, titular):\n",
    "        self.titular = titular\n",
    "        self.saldo = 0.0\n",
    "\n",
    "    def depositar(self, valor):\n",
    "        self.saldo += valor\n",
    "\n",
    "# 1. Instanciando o objeto\n",
    "conta_da_ana = Conta(\"Ana\")\n",
    "\n",
    "# 2. Acessando e modificando atributos\n",
    "print(f\"Saldo inicial: {conta_da_ana.saldo}\") # Acessando\n",
    "conta_da_ana.saldo = 100.0 # Modificando diretamente\n",
    "\n",
    "# 3. Chamando um método\n",
    "conta_da_ana.depositar(50.0)\n",
    "\n",
    "print(f\"Saldo final: {conta_da_ana.saldo}\") # Saída: Saldo final: 150.0"
   ]
  },
  {
   "cell_type": "markdown",
   "id": "003e035d",
   "metadata": {},
   "source": [
    "## Herança\n",
    "\n",
    "A Herança permite que uma nova classe (chamada de subclasse ou classe filha) herde todos os atributos e métodos de uma classe existente (a superclasse ou classe mãe).\n",
    "\n",
    "O Conceito: A subclasse \"é um tipo de\" superclasse.\n",
    "\n",
    "* Um Cachorro é um Animal.\n",
    "* Um CarroEletrico é um Carro.\n",
    "* Um Gerente é um Funcionario.\n",
    "\n",
    "Principal Vantagem: Reutilização de Código (DRY - Don't Repeat Yourself).\n",
    "\n",
    "Você define os comportamentos e atributos comuns na classe mãe uma única vez.\n",
    "\n",
    "As classes filhas herdam tudo isso e podem adicionar suas próprias características ou modificar as herdadas.\n"
   ]
  },
  {
   "cell_type": "code",
   "execution_count": 5,
   "id": "383c2e03",
   "metadata": {},
   "outputs": [
    {
     "name": "stdout",
     "output_type": "stream",
     "text": [
      "Nome: Carlos, Salário: R$10000.00\n",
      "Bônus: R$2500.00\n"
     ]
    }
   ],
   "source": [
    "# Classe Mãe (Superclasse)\n",
    "class Funcionario:\n",
    "    def __init__(self, nome, salario):\n",
    "        self.nome = nome\n",
    "        self.salario = salario\n",
    "\n",
    "    def exibir_dados(self):\n",
    "        print(f\"Nome: {self.nome}, Salário: R${self.salario:.2f}\")\n",
    "\n",
    "# Classe Filha (Subclasse)\n",
    "class Gerente(Funcionario): # Gerente herda de Funcionario\n",
    "    def __init__(self, nome, salario, bonus):\n",
    "        # Chama o __init__ da classe mãe (Funcionario) para não repetir código\n",
    "        super().__init__(nome, salario)\n",
    "        # Adiciona um atributo específico do Gerente\n",
    "        self.bonus = bonus\n",
    "\n",
    "    def exibir_dados(self): # O Gerente pode ter seu próprio método\n",
    "        super().exibir_dados() # Reutiliza o método da classe mãe\n",
    "        print(f\"Bônus: R${self.bonus:.2f}\")\n",
    "\n",
    "# Instanciação\n",
    "gerente = Gerente(\"Carlos\", 10000.00, 2500.00)\n",
    "gerente.exibir_dados()"
   ]
  },
  {
   "cell_type": "markdown",
   "id": "0df61536",
   "metadata": {},
   "source": [
    "## Poliformismo\n",
    "\n",
    "Polimorfismo é a capacidade de objetos de classes diferentes responderem à mesma chamada de método, cada um de sua maneira específica.\n",
    "\n",
    "Analogia: Pense no comando \"mova-se\".\n",
    "\n",
    "* Uma Pessoa vai andar.\n",
    "* Um Peixe vai nadar.\n",
    "* um Pássaro vai voar.\n",
    "\n",
    "A mensagem (mova-se) é a mesma, mas a execução (a forma) é diferente para cada objeto.\n",
    "\n",
    "Em Python: Isso significa que podemos ter um método com o mesmo nome em classes diferentes (geralmente relacionadas por herança), e o Python saberá qual versão do método chamar com base no tipo do objeto."
   ]
  },
  {
   "cell_type": "code",
   "execution_count": 6,
   "id": "ee8be930",
   "metadata": {},
   "outputs": [
    {
     "name": "stdout",
     "output_type": "stream",
     "text": [
      "Au au!\n",
      "Miau!\n",
      "Barulho genérico de animal\n"
     ]
    }
   ],
   "source": [
    "class Animal:\n",
    "    def fazer_barulho(self):\n",
    "        print(\"Barulho genérico de animal\")\n",
    "\n",
    "class Cachorro(Animal):\n",
    "    def fazer_barulho(self): # Sobrescrevendo o método da classe mãe\n",
    "        print(\"Au au!\")\n",
    "\n",
    "class Gato(Animal):\n",
    "    def fazer_barulho(self): # Sobrescrevendo o método da classe mãe\n",
    "        print(\"Miau!\")\n",
    "\n",
    "# Criando uma lista de objetos de tipos diferentes\n",
    "animais = [Cachorro(), Gato(), Animal()]\n",
    "\n",
    "# Graças ao polimorfismo, podemos fazer isso:\n",
    "for animal in animais:\n",
    "    animal.fazer_barulho()"
   ]
  },
  {
   "cell_type": "markdown",
   "id": "83098298",
   "metadata": {},
   "source": [
    "## Encapsulamento\n",
    "\n",
    "Encapsulamento é o princípio de agrupar os dados (atributos) e os métodos que os manipulam dentro de uma classe, e controlar o acesso a esses dados.\n",
    "\n",
    "*Objetivo:* Proteger os atributos de modificações acidentais ou inválidas. O objeto deve ser o único responsável por gerenciar seu próprio estado.\n",
    "\n",
    "Convenções em Python:\n",
    "\n",
    "**_um_underline (Protegido)**: Um \"aviso\" para outros desenvolvedores: \"Não mexa neste atributo diretamente fora da classe, a menos que saiba o que está fazendo.\"\n",
    "\n",
    "**__dois_underlines (Privado)**: O Python \"esconde\" este atributo (através de name mangling), dificultando muito o acesso externo."
   ]
  },
  {
   "cell_type": "code",
   "execution_count": 7,
   "id": "368488ff",
   "metadata": {},
   "outputs": [
    {
     "name": "stdout",
     "output_type": "stream",
     "text": [
      "Saldo acessado via método: 100.0\n"
     ]
    }
   ],
   "source": [
    "class Conta:\n",
    "    def __init__(self, titular):\n",
    "        self.titular = titular\n",
    "        self.__saldo = 0.0 # Atributo \"privado\"\n",
    "\n",
    "    def depositar(self, valor):\n",
    "        if valor > 0:\n",
    "            self.__saldo += valor\n",
    "\n",
    "    def ver_saldo(self): # Método público para acessar o saldo\n",
    "        return self.__saldo\n",
    "\n",
    "conta = Conta(\"José\")\n",
    "conta.depositar(100)\n",
    "# print(conta.__saldo) # Isso daria um erro!\n",
    "print(f\"Saldo acessado via método: {conta.ver_saldo()}\")"
   ]
  },
  {
   "cell_type": "markdown",
   "id": "82e6a0e5",
   "metadata": {},
   "source": [
    "## Composição\n",
    "\n",
    "A Composição ocorre quando um objeto (o \"todo\") é composto por um ou mais objetos de outras classes (as \"partes\").\n",
    "\n",
    "Característica Principal: As \"partes\" não existem sem o \"todo\". Se o objeto principal é destruído, suas partes também são.\n",
    "\n",
    "Analogia: Um Carro tem um Motor. O Motor é uma parte essencial do Carro e não faz sentido existir de forma independente no mesmo contexto.\n"
   ]
  },
  {
   "cell_type": "code",
<<<<<<< HEAD
   "execution_count": 10,
   "id": "bf6ae641",
   "metadata": {},
   "outputs": [
    {
     "name": "stdout",
     "output_type": "stream",
     "text": [
      "VRUMMM 1.0 Turbo\n"
     ]
    }
   ],
=======
   "execution_count": null,
   "id": "bf6ae641",
   "metadata": {},
   "outputs": [],
>>>>>>> be114d21898c01aca5501dec3ed4b5324ad0abf3
   "source": [
    "class Motor:\n",
    "    def __init__(self, potencia):\n",
    "        self.potencia = potencia\n",
    "    \n",
<<<<<<< HEAD
    "    def acelerar(self):\n",
=======
    "    def acelerar():\n",
>>>>>>> be114d21898c01aca5501dec3ed4b5324ad0abf3
    "        print(\"VRUMMM\",self.potencia)\n",
    "\n",
    "class Carro:\n",
    "    def __init__(self, modelo):\n",
    "        self.modelo = modelo\n",
    "        # O objeto Motor é criado DENTRO do construtor do Carro\n",
<<<<<<< HEAD
    "        self.motor = Motor(\"1.0 Turbo\")\n",
    "        \n",
    "carro = Carro(\"Fox\")\n",
    "carro.motor.acelerar()"
=======
    "        self.motor = Motor(\"1.0 Turbo\")"
>>>>>>> be114d21898c01aca5501dec3ed4b5324ad0abf3
   ]
  },
  {
   "cell_type": "markdown",
   "id": "a8030343",
   "metadata": {},
   "source": [
    "**Chamando os métodos em um objeto:**"
   ]
  },
  {
   "cell_type": "code",
   "execution_count": 8,
   "id": "aa796460",
   "metadata": {},
   "outputs": [
    {
     "name": "stdout",
     "output_type": "stream",
     "text": [
      "O Ka está ligado.\n",
      "O Ka foi desligado.\n"
     ]
    }
   ],
   "source": [
    "meu_carro = Carro(\"Ford\", \"Ka\")\n",
    "meu_carro.ligar()\n",
    "meu_carro.desligar()"
   ]
  },
  {
   "cell_type": "markdown",
   "id": "82b8fc30",
   "metadata": {},
   "source": [
<<<<<<< HEAD
    "## O relacionamento fraco \"tem um\"\n",
    "\n",
    "A Agregação também descreve um relacionamento \"tem um\", mas de forma mais fraca. Os objetos podem existir de forma independente.\n",
    "\n",
    "Característica Principal: Um objeto \"agrega\" ou \"utiliza\" outro, mas a existência de um não depende do outro. Se o objeto principal é destruído, o objeto agregado continua existindo.\n",
    "\n",
    "Analogia: Um Professor tem uma Turma. A Turma é um objeto independente. Se o Professor se aposenta, a Turma continua a existir e pode ser associada a outro professor."
=======
    "## Modelando uma Conta Bancária\n",
    "\n",
    "Vamos aplicar todos os conceitos para modelar uma ContaBancaria.\n",
    "\n",
    "Responsabilidade: Gerenciar o titular, o saldo e as operações de depósito e saque."
>>>>>>> be114d21898c01aca5501dec3ed4b5324ad0abf3
   ]
  },
  {
   "cell_type": "code",
<<<<<<< HEAD
   "execution_count": 11,
=======
   "execution_count": 12,
>>>>>>> be114d21898c01aca5501dec3ed4b5324ad0abf3
   "id": "9b0e426a",
   "metadata": {},
   "outputs": [],
   "source": [
<<<<<<< HEAD
    "class Turma:\n",
    "    def __init__(self, codigo):\n",
    "        self.codigo = codigo\n",
    "\n",
    "class Professor:\n",
    "    def __init__(self, nome, turma):\n",
    "        self.nome = nome\n",
    "        # O objeto Turma é criado fora e PASSADO para o Professor\n",
    "        self.turma = turma\n",
    "\n",
    "turma_a = Turma(\"TI-2025\")\n",
    "professor_joao = Professor(\"João\", turma_a)"
=======
    "class ContaBancaria:\n",
    "    def __init__(self, titular, saldo_inicial):\n",
    "        self.titular = titular\n",
    "        self.saldo = saldo_inicial\n",
    "\n",
    "    def depositar(self, valor):\n",
    "        if valor > 0:\n",
    "            self.saldo += valor\n",
    "            print(f\"Depósito de R${valor:.2f} realizado. Novo saldo: R${self.saldo:.2f}\")\n",
    "        else:\n",
    "            print(\"Valor de depósito inválido.\")\n",
    "\n",
    "    def sacar(self, valor):\n",
    "        if valor > 0 and valor <= self.saldo:\n",
    "            self.saldo -= valor\n",
    "            print(f\"Saque de R${valor:.2f} realizado. Novo saldo: R${self.saldo:.2f}\")\n",
    "        else:\n",
    "            print(\"Saldo insuficiente ou valor de saque inválido.\")\n",
    "\n",
    "    def exibir_saldo(self):\n",
    "        print(f\"A conta de {self.titular} possui um saldo de R${self.saldo:.2f}\")"
>>>>>>> be114d21898c01aca5501dec3ed4b5324ad0abf3
   ]
  },
  {
   "cell_type": "markdown",
   "id": "842397a6",
   "metadata": {},
   "source": [
    "**Chamando os métodos e parâmetros em um objeto:**"
   ]
  },
  {
   "cell_type": "code",
   "execution_count": 13,
   "id": "fb9a4bcb",
   "metadata": {},
   "outputs": [
    {
     "name": "stdout",
     "output_type": "stream",
     "text": [
      "A conta de Carlos possui um saldo de R$1000.00\n",
      "Depósito de R$500.00 realizado. Novo saldo: R$1500.00\n",
      "Saque de R$200.00 realizado. Novo saldo: R$1300.00\n",
      "A conta de Carlos possui um saldo de R$1300.00\n"
     ]
    }
   ],
   "source": [
    "conta = ContaBancaria(\"Carlos\", 1000)\n",
    "conta.exibir_saldo()\n",
    "conta.depositar(500)\n",
    "conta.sacar(200)\n",
    "conta.exibir_saldo()"
   ]
  }
 ],
 "metadata": {
  "kernelspec": {
   "display_name": "Python 3",
   "language": "python",
   "name": "python3"
  },
  "language_info": {
   "codemirror_mode": {
    "name": "ipython",
    "version": 3
   },
   "file_extension": ".py",
   "mimetype": "text/x-python",
   "name": "python",
   "nbconvert_exporter": "python",
   "pygments_lexer": "ipython3",
   "version": "3.12.4"
  }
 },
 "nbformat": 4,
 "nbformat_minor": 5
}
