{
 "cells": [
  {
   "cell_type": "markdown",
   "id": "e56a4add",
   "metadata": {},
   "source": [
    "# Aula 13\n",
    "\n",
    "## Classes\n",
    "\n",
    "Chamar (invocar) funções para executar a lógica encapsulada.\n",
    "\n",
    "Criando a planta para nossos objetos.\n",
    "\n",
    "Uma Classe não é o objeto em si, mas sim o molde, a planta baixa ou a receita para criar objetos.\n",
    "\n",
    "A Classe (O Molde): Define quais atributos (características) e métodos (ações) todos os objetos daquele tipo terão.\n",
    "\n",
    "Ex: A classe Carro define que todo carro terá cor, marca e ano, e poderá ligar(), acelerar() e frear().\n",
    "\n",
    "O Objeto (A Instância): É a coisa real criada a partir do molde. Cada objeto tem seus próprios valores para os atributos.\n",
    "\n",
    "Ex: meu_fusca é um objeto da classe Carro com cor=\"Azul\" e marca=\"VW\". carro_vizinho é outro objeto com cor=\"Vermelho\" e marca=\"Fiat\".\n"
   ]
  },
  {
   "cell_type": "code",
   "execution_count": 9,
   "id": "314aaaaf",
   "metadata": {},
   "outputs": [],
   "source": [
    "class Carro:\n",
    "    pass"
   ]
  },
  {
   "cell_type": "markdown",
   "id": "65ab638f",
   "metadata": {},
   "source": [
    "### Criando um objeto (instanciando a classe):\n",
    "Para criar um objeto a partir da classe, nós a \"chamamos\" como se fosse uma função."
   ]
  },
  {
   "cell_type": "code",
   "execution_count": 10,
   "id": "2fd8b47b",
   "metadata": {},
   "outputs": [
    {
     "name": "stdout",
     "output_type": "stream",
     "text": [
      "<class '__main__.Carro'>\n"
     ]
    }
   ],
   "source": [
    "meu_carro = Carro()\n",
    "carro_da_frente = Carro()\n",
    "\n",
    "print(type(meu_carro))"
   ]
  },
  {
   "cell_type": "markdown",
   "id": "003e035d",
   "metadata": {},
   "source": [
    "## Armazenando os dados de cada instância.\n",
    "\n",
    "Atributos são as variáveis que pertencem a um objeto. Eles guardam o \"estado\" do objeto.\n",
    "\n",
    "Como definir e acessar atributos:\n",
    "Podemos definir atributos diretamente no objeto usando a sintaxe objeto.atributo."
   ]
  },
  {
   "cell_type": "code",
   "execution_count": 5,
   "id": "383c2e03",
   "metadata": {},
   "outputs": [
    {
     "name": "stdout",
     "output_type": "stream",
     "text": [
      "Meu carro é um Fiat Uno do ano 1995.\n"
     ]
    }
   ],
   "source": [
    "# Criando um objeto\n",
    "uno = Carro()\n",
    "\n",
    "# Definindo atributos para ESTE objeto específico\n",
    "uno.marca = \"Fiat\"\n",
    "uno.modelo = \"Uno\"\n",
    "uno.ano = 1995\n",
    "uno.cor = \"Vermelho\"\n",
    "\n",
    "# Acessando e imprimindo os atributos\n",
    "print(f\"Meu carro é um {uno.marca} {uno.modelo} do ano {uno.ano}.\")"
   ]
  },
  {
   "cell_type": "markdown",
   "id": "0df61536",
   "metadata": {},
   "source": [
    "## Inicializando objetos de forma padronizada e segura.\n",
    "\n",
    "O método __init__ (lê-se \"dunder init\", de double underscore) é um método especial que é chamado automaticamente toda vez que um novo objeto é criado. Ele serve para inicializar os atributos do objeto."
   ]
  },
  {
   "cell_type": "code",
   "execution_count": null,
   "id": "ee8be930",
   "metadata": {},
   "outputs": [],
   "source": [
    "class Carro:\n",
    "    def __init__(self, marca, modelo, ano, cor):\n",
    "        print(f\"Criando um novo carro da marca {marca}...\")\n",
    "        # 'self' se refere ao objeto que está sendo criado\n",
    "        # Atribuímos os parâmetros aos atributos do objeto\n",
    "        self.marca = marca\n",
    "        self.modelo = modelo\n",
    "        self.ano = ano\n",
    "        self.cor = cor"
   ]
  },
  {
   "cell_type": "markdown",
   "id": "635961e6",
   "metadata": {},
   "source": [
    "*self*: É uma referência ao próprio objeto (a instância) que está sendo criada. É como o objeto se refere a \"si mesmo\".\n",
    "\n",
    "Os outros parâmetros (marca, modelo...) são os \"ingredientes\" que fornecemos para construir o objeto."
   ]
  },
  {
   "cell_type": "markdown",
   "id": "83098298",
   "metadata": {},
   "source": [
    "## Desmistificando a palavra-chave mais importante da POO.\n",
    "\n",
    "O *self* é o que permite que um objeto acesse seus próprios atributos e métodos de dentro da classe.\n",
    "\n",
    "Por que ele é necessário? A classe Carro é apenas o molde. Quando temos vários objetos (uno, fusca, ferrari), o *self* é a forma de Python saber a qual objeto específico um método ou atributo pertence.\n",
    "\n",
    "Analogia: Pense que você está preenchendo seu próprio formulário de cadastro. Quando você escreve seu nome no campo \"Nome\", o *self* é a referência que garante que você está escrevendo no seu formulário, e não no de outra pessoa."
   ]
  },
  {
   "cell_type": "code",
   "execution_count": 6,
   "id": "368488ff",
   "metadata": {},
   "outputs": [
    {
     "name": "stdout",
     "output_type": "stream",
     "text": [
      "Olá, meu nome é Ana.\n",
      "Olá, meu nome é Beto.\n"
     ]
    }
   ],
   "source": [
    "class Pessoa:\n",
    "    def __init__(self, nome_inicial):\n",
    "        self.nome = nome_inicial\n",
    "\n",
    "    def apresentar(self):\n",
    "        # Usamos 'self.nome' para acessar o nome DESTE objeto específico.\n",
    "        print(f\"Olá, meu nome é {self.nome}.\")\n",
    "\n",
    "# Criando dois objetos\n",
    "ana = Pessoa(\"Ana\")\n",
    "beto = Pessoa(\"Beto\")\n",
    "\n",
    "# Cada um usa seu próprio 'self' para se apresentar\n",
    "ana.apresentar()\n",
    "beto.apresentar()"
   ]
  },
  {
   "cell_type": "markdown",
   "id": "82e6a0e5",
   "metadata": {},
   "source": [
    "## Definindo os comportamentos e funções de uma classe.\n",
    "\n",
    "Métodos são funções que pertencem a uma classe. Eles definem o que um objeto pode fazer. O primeiro parâmetro de um método de instância é sempre self."
   ]
  },
  {
   "cell_type": "code",
   "execution_count": 7,
   "id": "bf6ae641",
   "metadata": {},
   "outputs": [],
   "source": [
    "class Carro:\n",
    "    def __init__(self, marca, modelo):\n",
    "        self.marca = marca\n",
    "        self.modelo = modelo\n",
    "        self.ligado = False # Um atributo para controlar o estado\n",
    "\n",
    "    # Um método para ligar o carro\n",
    "    def ligar(self):\n",
    "        if not self.ligado:\n",
    "            self.ligado = True\n",
    "            print(f\"O {self.modelo} está ligado.\")\n",
    "        else:\n",
    "            print(f\"O {self.modelo} já estava ligado.\")\n",
    "\n",
    "    # Um método para desligar o carro\n",
    "    def desligar(self):\n",
    "        if self.ligado:\n",
    "            self.ligado = False\n",
    "            print(f\"O {self.modelo} foi desligado.\")\n",
    "        else:\n",
    "            print(f\"O {self.modelo} já estava desligado.\")"
   ]
  },
  {
   "cell_type": "markdown",
   "id": "a8030343",
   "metadata": {},
   "source": [
    "**Chamando os métodos em um objeto:**"
   ]
  },
  {
   "cell_type": "code",
   "execution_count": 8,
   "id": "aa796460",
   "metadata": {},
   "outputs": [
    {
     "name": "stdout",
     "output_type": "stream",
     "text": [
      "O Ka está ligado.\n",
      "O Ka foi desligado.\n"
     ]
    }
   ],
   "source": [
    "meu_carro = Carro(\"Ford\", \"Ka\")\n",
    "meu_carro.ligar()\n",
    "meu_carro.desligar()"
   ]
  },
  {
   "cell_type": "markdown",
   "id": "82b8fc30",
   "metadata": {},
   "source": [
    "## Modelando uma Conta Bancária\n",
    "\n",
    "Vamos aplicar todos os conceitos para modelar uma ContaBancaria.\n",
    "\n",
    "Responsabilidade: Gerenciar o titular, o saldo e as operações de depósito e saque."
   ]
  },
  {
   "cell_type": "code",
   "execution_count": 12,
   "id": "9b0e426a",
   "metadata": {},
   "outputs": [],
   "source": [
    "class ContaBancaria:\n",
    "    def __init__(self, titular, saldo_inicial):\n",
    "        self.titular = titular\n",
    "        self.saldo = saldo_inicial\n",
    "\n",
    "    def depositar(self, valor):\n",
    "        if valor > 0:\n",
    "            self.saldo += valor\n",
    "            print(f\"Depósito de R${valor:.2f} realizado. Novo saldo: R${self.saldo:.2f}\")\n",
    "        else:\n",
    "            print(\"Valor de depósito inválido.\")\n",
    "\n",
    "    def sacar(self, valor):\n",
    "        if valor > 0 and valor <= self.saldo:\n",
    "            self.saldo -= valor\n",
    "            print(f\"Saque de R${valor:.2f} realizado. Novo saldo: R${self.saldo:.2f}\")\n",
    "        else:\n",
    "            print(\"Saldo insuficiente ou valor de saque inválido.\")\n",
    "\n",
    "    def exibir_saldo(self):\n",
    "        print(f\"A conta de {self.titular} possui um saldo de R${self.saldo:.2f}\")"
   ]
  },
  {
   "cell_type": "markdown",
   "id": "842397a6",
   "metadata": {},
   "source": [
    "**Chamando os métodos e parâmetros em um objeto:**"
   ]
  },
  {
   "cell_type": "code",
   "execution_count": 13,
   "id": "fb9a4bcb",
   "metadata": {},
   "outputs": [
    {
     "name": "stdout",
     "output_type": "stream",
     "text": [
      "A conta de Carlos possui um saldo de R$1000.00\n",
      "Depósito de R$500.00 realizado. Novo saldo: R$1500.00\n",
      "Saque de R$200.00 realizado. Novo saldo: R$1300.00\n",
      "A conta de Carlos possui um saldo de R$1300.00\n"
     ]
    }
   ],
   "source": [
    "conta = ContaBancaria(\"Carlos\", 1000)\n",
    "conta.exibir_saldo()\n",
    "conta.depositar(500)\n",
    "conta.sacar(200)\n",
    "conta.exibir_saldo()"
   ]
  }
 ],
 "metadata": {
  "kernelspec": {
   "display_name": "Python 3",
   "language": "python",
   "name": "python3"
  },
  "language_info": {
   "codemirror_mode": {
    "name": "ipython",
    "version": 3
   },
   "file_extension": ".py",
   "mimetype": "text/x-python",
   "name": "python",
   "nbconvert_exporter": "python",
   "pygments_lexer": "ipython3",
   "version": "3.12.4"
  }
 },
 "nbformat": 4,
 "nbformat_minor": 5
}
